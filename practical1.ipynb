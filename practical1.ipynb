{
 "cells": [
  {
   "cell_type": "markdown",
   "metadata": {},
   "source": [
    "## Practical 1: word2vec\n",
    "<p>Oxford CS - Deep NLP 2017<br>\n",
    "https://www.cs.ox.ac.uk/teaching/courses/2016-2017/dl/</p>\n",
    "<p>[Yannis Assael, Brendan Shillingford, Chris Dyer]</p>"
   ]
  },
  {
   "cell_type": "markdown",
   "metadata": {},
   "source": [
    "This practical is presented as an IPython Notebook, with the code written for recent versions of **Python 3**. The code in this practical will not work with Python 2 unless you modify it. If you are using your own Python installation, ensure you have a setup identical to that described in the installation shell script (which is intended for use with the department lab machines). We will be unable to support installation on personal machines due to time constraints, so please use the lab machines and the setup script if you are unfamiliar with how to install Anaconda.\n",
    "\n",
    "To execute a notebook cell, press `shift-enter`. The return value of the last command will be displayed, if it is not `None`.\n",
    "\n",
    "Potentially useful library documentation, references, and resources:\n",
    "\n",
    "* IPython notebooks: <https://ipython.org/ipython-doc/3/notebook/notebook.html#introduction>\n",
    "* Numpy numerical array library: <https://docs.scipy.org/doc/>\n",
    "* Gensim's word2vec: <https://radimrehurek.com/gensim/models/word2vec.html>\n",
    "* Bokeh interactive plots: <http://bokeh.pydata.org/en/latest/> (we provide plotting code here, but click the thumbnails for more examples to copy-paste)\n",
    "* scikit-learn ML library (aka `sklearn`): <http://scikit-learn.org/stable/documentation.html>\n",
    "* nltk NLP toolkit: <http://www.nltk.org/>\n",
    "* tutorial for processing xml in python using `lxml`: <http://lxml.de/tutorial.html> (we did this for you below, but in case you need it in the future)"
   ]
  },
  {
   "cell_type": "code",
   "execution_count": 1,
   "metadata": {},
   "outputs": [],
   "source": [
    "import numpy as np\n",
    "import os\n",
    "from random import shuffle\n",
    "import re"
   ]
  },
  {
   "cell_type": "code",
   "execution_count": 2,
   "metadata": {},
   "outputs": [
    {
     "data": {
      "text/html": [
       "\n",
       "    <div class=\"bk-root\">\n",
       "        <a href=\"https://bokeh.pydata.org\" target=\"_blank\" class=\"bk-logo bk-logo-small bk-logo-notebook\"></a>\n",
       "        <span id=\"1001\">Loading BokehJS ...</span>\n",
       "    </div>"
      ]
     },
     "metadata": {},
     "output_type": "display_data"
    },
    {
     "data": {
      "application/javascript": [
       "\n",
       "(function(root) {\n",
       "  function now() {\n",
       "    return new Date();\n",
       "  }\n",
       "\n",
       "  var force = true;\n",
       "\n",
       "  if (typeof root._bokeh_onload_callbacks === \"undefined\" || force === true) {\n",
       "    root._bokeh_onload_callbacks = [];\n",
       "    root._bokeh_is_loading = undefined;\n",
       "  }\n",
       "\n",
       "  var JS_MIME_TYPE = 'application/javascript';\n",
       "  var HTML_MIME_TYPE = 'text/html';\n",
       "  var EXEC_MIME_TYPE = 'application/vnd.bokehjs_exec.v0+json';\n",
       "  var CLASS_NAME = 'output_bokeh rendered_html';\n",
       "\n",
       "  /**\n",
       "   * Render data to the DOM node\n",
       "   */\n",
       "  function render(props, node) {\n",
       "    var script = document.createElement(\"script\");\n",
       "    node.appendChild(script);\n",
       "  }\n",
       "\n",
       "  /**\n",
       "   * Handle when an output is cleared or removed\n",
       "   */\n",
       "  function handleClearOutput(event, handle) {\n",
       "    var cell = handle.cell;\n",
       "\n",
       "    var id = cell.output_area._bokeh_element_id;\n",
       "    var server_id = cell.output_area._bokeh_server_id;\n",
       "    // Clean up Bokeh references\n",
       "    if (id != null && id in Bokeh.index) {\n",
       "      Bokeh.index[id].model.document.clear();\n",
       "      delete Bokeh.index[id];\n",
       "    }\n",
       "\n",
       "    if (server_id !== undefined) {\n",
       "      // Clean up Bokeh references\n",
       "      var cmd = \"from bokeh.io.state import curstate; print(curstate().uuid_to_server['\" + server_id + \"'].get_sessions()[0].document.roots[0]._id)\";\n",
       "      cell.notebook.kernel.execute(cmd, {\n",
       "        iopub: {\n",
       "          output: function(msg) {\n",
       "            var id = msg.content.text.trim();\n",
       "            if (id in Bokeh.index) {\n",
       "              Bokeh.index[id].model.document.clear();\n",
       "              delete Bokeh.index[id];\n",
       "            }\n",
       "          }\n",
       "        }\n",
       "      });\n",
       "      // Destroy server and session\n",
       "      var cmd = \"import bokeh.io.notebook as ion; ion.destroy_server('\" + server_id + \"')\";\n",
       "      cell.notebook.kernel.execute(cmd);\n",
       "    }\n",
       "  }\n",
       "\n",
       "  /**\n",
       "   * Handle when a new output is added\n",
       "   */\n",
       "  function handleAddOutput(event, handle) {\n",
       "    var output_area = handle.output_area;\n",
       "    var output = handle.output;\n",
       "\n",
       "    // limit handleAddOutput to display_data with EXEC_MIME_TYPE content only\n",
       "    if ((output.output_type != \"display_data\") || (!output.data.hasOwnProperty(EXEC_MIME_TYPE))) {\n",
       "      return\n",
       "    }\n",
       "\n",
       "    var toinsert = output_area.element.find(\".\" + CLASS_NAME.split(' ')[0]);\n",
       "\n",
       "    if (output.metadata[EXEC_MIME_TYPE][\"id\"] !== undefined) {\n",
       "      toinsert[toinsert.length - 1].firstChild.textContent = output.data[JS_MIME_TYPE];\n",
       "      // store reference to embed id on output_area\n",
       "      output_area._bokeh_element_id = output.metadata[EXEC_MIME_TYPE][\"id\"];\n",
       "    }\n",
       "    if (output.metadata[EXEC_MIME_TYPE][\"server_id\"] !== undefined) {\n",
       "      var bk_div = document.createElement(\"div\");\n",
       "      bk_div.innerHTML = output.data[HTML_MIME_TYPE];\n",
       "      var script_attrs = bk_div.children[0].attributes;\n",
       "      for (var i = 0; i < script_attrs.length; i++) {\n",
       "        toinsert[toinsert.length - 1].firstChild.setAttribute(script_attrs[i].name, script_attrs[i].value);\n",
       "      }\n",
       "      // store reference to server id on output_area\n",
       "      output_area._bokeh_server_id = output.metadata[EXEC_MIME_TYPE][\"server_id\"];\n",
       "    }\n",
       "  }\n",
       "\n",
       "  function register_renderer(events, OutputArea) {\n",
       "\n",
       "    function append_mime(data, metadata, element) {\n",
       "      // create a DOM node to render to\n",
       "      var toinsert = this.create_output_subarea(\n",
       "        metadata,\n",
       "        CLASS_NAME,\n",
       "        EXEC_MIME_TYPE\n",
       "      );\n",
       "      this.keyboard_manager.register_events(toinsert);\n",
       "      // Render to node\n",
       "      var props = {data: data, metadata: metadata[EXEC_MIME_TYPE]};\n",
       "      render(props, toinsert[toinsert.length - 1]);\n",
       "      element.append(toinsert);\n",
       "      return toinsert\n",
       "    }\n",
       "\n",
       "    /* Handle when an output is cleared or removed */\n",
       "    events.on('clear_output.CodeCell', handleClearOutput);\n",
       "    events.on('delete.Cell', handleClearOutput);\n",
       "\n",
       "    /* Handle when a new output is added */\n",
       "    events.on('output_added.OutputArea', handleAddOutput);\n",
       "\n",
       "    /**\n",
       "     * Register the mime type and append_mime function with output_area\n",
       "     */\n",
       "    OutputArea.prototype.register_mime_type(EXEC_MIME_TYPE, append_mime, {\n",
       "      /* Is output safe? */\n",
       "      safe: true,\n",
       "      /* Index of renderer in `output_area.display_order` */\n",
       "      index: 0\n",
       "    });\n",
       "  }\n",
       "\n",
       "  // register the mime type if in Jupyter Notebook environment and previously unregistered\n",
       "  if (root.Jupyter !== undefined) {\n",
       "    var events = require('base/js/events');\n",
       "    var OutputArea = require('notebook/js/outputarea').OutputArea;\n",
       "\n",
       "    if (OutputArea.prototype.mime_types().indexOf(EXEC_MIME_TYPE) == -1) {\n",
       "      register_renderer(events, OutputArea);\n",
       "    }\n",
       "  }\n",
       "\n",
       "  \n",
       "  if (typeof (root._bokeh_timeout) === \"undefined\" || force === true) {\n",
       "    root._bokeh_timeout = Date.now() + 5000;\n",
       "    root._bokeh_failed_load = false;\n",
       "  }\n",
       "\n",
       "  var NB_LOAD_WARNING = {'data': {'text/html':\n",
       "     \"<div style='background-color: #fdd'>\\n\"+\n",
       "     \"<p>\\n\"+\n",
       "     \"BokehJS does not appear to have successfully loaded. If loading BokehJS from CDN, this \\n\"+\n",
       "     \"may be due to a slow or bad network connection. Possible fixes:\\n\"+\n",
       "     \"</p>\\n\"+\n",
       "     \"<ul>\\n\"+\n",
       "     \"<li>re-rerun `output_notebook()` to attempt to load from CDN again, or</li>\\n\"+\n",
       "     \"<li>use INLINE resources instead, as so:</li>\\n\"+\n",
       "     \"</ul>\\n\"+\n",
       "     \"<code>\\n\"+\n",
       "     \"from bokeh.resources import INLINE\\n\"+\n",
       "     \"output_notebook(resources=INLINE)\\n\"+\n",
       "     \"</code>\\n\"+\n",
       "     \"</div>\"}};\n",
       "\n",
       "  function display_loaded() {\n",
       "    var el = document.getElementById(\"1001\");\n",
       "    if (el != null) {\n",
       "      el.textContent = \"BokehJS is loading...\";\n",
       "    }\n",
       "    if (root.Bokeh !== undefined) {\n",
       "      if (el != null) {\n",
       "        el.textContent = \"BokehJS \" + root.Bokeh.version + \" successfully loaded.\";\n",
       "      }\n",
       "    } else if (Date.now() < root._bokeh_timeout) {\n",
       "      setTimeout(display_loaded, 100)\n",
       "    }\n",
       "  }\n",
       "\n",
       "\n",
       "  function run_callbacks() {\n",
       "    try {\n",
       "      root._bokeh_onload_callbacks.forEach(function(callback) {\n",
       "        if (callback != null)\n",
       "          callback();\n",
       "      });\n",
       "    } finally {\n",
       "      delete root._bokeh_onload_callbacks\n",
       "    }\n",
       "    console.debug(\"Bokeh: all callbacks have finished\");\n",
       "  }\n",
       "\n",
       "  function load_libs(css_urls, js_urls, callback) {\n",
       "    if (css_urls == null) css_urls = [];\n",
       "    if (js_urls == null) js_urls = [];\n",
       "\n",
       "    root._bokeh_onload_callbacks.push(callback);\n",
       "    if (root._bokeh_is_loading > 0) {\n",
       "      console.debug(\"Bokeh: BokehJS is being loaded, scheduling callback at\", now());\n",
       "      return null;\n",
       "    }\n",
       "    if (js_urls == null || js_urls.length === 0) {\n",
       "      run_callbacks();\n",
       "      return null;\n",
       "    }\n",
       "    console.debug(\"Bokeh: BokehJS not loaded, scheduling load and callback at\", now());\n",
       "    root._bokeh_is_loading = css_urls.length + js_urls.length;\n",
       "\n",
       "    function on_load() {\n",
       "      root._bokeh_is_loading--;\n",
       "      if (root._bokeh_is_loading === 0) {\n",
       "        console.debug(\"Bokeh: all BokehJS libraries/stylesheets loaded\");\n",
       "        run_callbacks()\n",
       "      }\n",
       "    }\n",
       "\n",
       "    function on_error() {\n",
       "      console.error(\"failed to load \" + url);\n",
       "    }\n",
       "\n",
       "    for (var i = 0; i < css_urls.length; i++) {\n",
       "      var url = css_urls[i];\n",
       "      const element = document.createElement(\"link\");\n",
       "      element.onload = on_load;\n",
       "      element.onerror = on_error;\n",
       "      element.rel = \"stylesheet\";\n",
       "      element.type = \"text/css\";\n",
       "      element.href = url;\n",
       "      console.debug(\"Bokeh: injecting link tag for BokehJS stylesheet: \", url);\n",
       "      document.body.appendChild(element);\n",
       "    }\n",
       "\n",
       "    for (var i = 0; i < js_urls.length; i++) {\n",
       "      var url = js_urls[i];\n",
       "      var element = document.createElement('script');\n",
       "      element.onload = on_load;\n",
       "      element.onerror = on_error;\n",
       "      element.async = false;\n",
       "      element.src = url;\n",
       "      console.debug(\"Bokeh: injecting script tag for BokehJS library: \", url);\n",
       "      document.head.appendChild(element);\n",
       "    }\n",
       "  };var element = document.getElementById(\"1001\");\n",
       "  if (element == null) {\n",
       "    console.error(\"Bokeh: ERROR: autoload.js configured with elementid '1001' but no matching script tag was found. \")\n",
       "    return false;\n",
       "  }\n",
       "\n",
       "  function inject_raw_css(css) {\n",
       "    const element = document.createElement(\"style\");\n",
       "    element.appendChild(document.createTextNode(css));\n",
       "    document.body.appendChild(element);\n",
       "  }\n",
       "\n",
       "  var js_urls = [\"https://cdn.pydata.org/bokeh/release/bokeh-1.3.4.min.js\", \"https://cdn.pydata.org/bokeh/release/bokeh-widgets-1.3.4.min.js\", \"https://cdn.pydata.org/bokeh/release/bokeh-tables-1.3.4.min.js\", \"https://cdn.pydata.org/bokeh/release/bokeh-gl-1.3.4.min.js\"];\n",
       "  var css_urls = [];\n",
       "\n",
       "  var inline_js = [\n",
       "    function(Bokeh) {\n",
       "      Bokeh.set_log_level(\"info\");\n",
       "    },\n",
       "    \n",
       "    function(Bokeh) {\n",
       "      \n",
       "    },\n",
       "    function(Bokeh) {} // ensure no trailing comma for IE\n",
       "  ];\n",
       "\n",
       "  function run_inline_js() {\n",
       "    \n",
       "    if ((root.Bokeh !== undefined) || (force === true)) {\n",
       "      for (var i = 0; i < inline_js.length; i++) {\n",
       "        inline_js[i].call(root, root.Bokeh);\n",
       "      }if (force === true) {\n",
       "        display_loaded();\n",
       "      }} else if (Date.now() < root._bokeh_timeout) {\n",
       "      setTimeout(run_inline_js, 100);\n",
       "    } else if (!root._bokeh_failed_load) {\n",
       "      console.log(\"Bokeh: BokehJS failed to load within specified timeout.\");\n",
       "      root._bokeh_failed_load = true;\n",
       "    } else if (force !== true) {\n",
       "      var cell = $(document.getElementById(\"1001\")).parents('.cell').data().cell;\n",
       "      cell.output_area.append_execute_result(NB_LOAD_WARNING)\n",
       "    }\n",
       "\n",
       "  }\n",
       "\n",
       "  if (root._bokeh_is_loading === 0) {\n",
       "    console.debug(\"Bokeh: BokehJS loaded, going straight to plotting\");\n",
       "    run_inline_js();\n",
       "  } else {\n",
       "    load_libs(css_urls, js_urls, function() {\n",
       "      console.debug(\"Bokeh: BokehJS plotting callback run at\", now());\n",
       "      run_inline_js();\n",
       "    });\n",
       "  }\n",
       "}(window));"
      ],
      "application/vnd.bokehjs_load.v0+json": "\n(function(root) {\n  function now() {\n    return new Date();\n  }\n\n  var force = true;\n\n  if (typeof root._bokeh_onload_callbacks === \"undefined\" || force === true) {\n    root._bokeh_onload_callbacks = [];\n    root._bokeh_is_loading = undefined;\n  }\n\n  \n\n  \n  if (typeof (root._bokeh_timeout) === \"undefined\" || force === true) {\n    root._bokeh_timeout = Date.now() + 5000;\n    root._bokeh_failed_load = false;\n  }\n\n  var NB_LOAD_WARNING = {'data': {'text/html':\n     \"<div style='background-color: #fdd'>\\n\"+\n     \"<p>\\n\"+\n     \"BokehJS does not appear to have successfully loaded. If loading BokehJS from CDN, this \\n\"+\n     \"may be due to a slow or bad network connection. Possible fixes:\\n\"+\n     \"</p>\\n\"+\n     \"<ul>\\n\"+\n     \"<li>re-rerun `output_notebook()` to attempt to load from CDN again, or</li>\\n\"+\n     \"<li>use INLINE resources instead, as so:</li>\\n\"+\n     \"</ul>\\n\"+\n     \"<code>\\n\"+\n     \"from bokeh.resources import INLINE\\n\"+\n     \"output_notebook(resources=INLINE)\\n\"+\n     \"</code>\\n\"+\n     \"</div>\"}};\n\n  function display_loaded() {\n    var el = document.getElementById(\"1001\");\n    if (el != null) {\n      el.textContent = \"BokehJS is loading...\";\n    }\n    if (root.Bokeh !== undefined) {\n      if (el != null) {\n        el.textContent = \"BokehJS \" + root.Bokeh.version + \" successfully loaded.\";\n      }\n    } else if (Date.now() < root._bokeh_timeout) {\n      setTimeout(display_loaded, 100)\n    }\n  }\n\n\n  function run_callbacks() {\n    try {\n      root._bokeh_onload_callbacks.forEach(function(callback) {\n        if (callback != null)\n          callback();\n      });\n    } finally {\n      delete root._bokeh_onload_callbacks\n    }\n    console.debug(\"Bokeh: all callbacks have finished\");\n  }\n\n  function load_libs(css_urls, js_urls, callback) {\n    if (css_urls == null) css_urls = [];\n    if (js_urls == null) js_urls = [];\n\n    root._bokeh_onload_callbacks.push(callback);\n    if (root._bokeh_is_loading > 0) {\n      console.debug(\"Bokeh: BokehJS is being loaded, scheduling callback at\", now());\n      return null;\n    }\n    if (js_urls == null || js_urls.length === 0) {\n      run_callbacks();\n      return null;\n    }\n    console.debug(\"Bokeh: BokehJS not loaded, scheduling load and callback at\", now());\n    root._bokeh_is_loading = css_urls.length + js_urls.length;\n\n    function on_load() {\n      root._bokeh_is_loading--;\n      if (root._bokeh_is_loading === 0) {\n        console.debug(\"Bokeh: all BokehJS libraries/stylesheets loaded\");\n        run_callbacks()\n      }\n    }\n\n    function on_error() {\n      console.error(\"failed to load \" + url);\n    }\n\n    for (var i = 0; i < css_urls.length; i++) {\n      var url = css_urls[i];\n      const element = document.createElement(\"link\");\n      element.onload = on_load;\n      element.onerror = on_error;\n      element.rel = \"stylesheet\";\n      element.type = \"text/css\";\n      element.href = url;\n      console.debug(\"Bokeh: injecting link tag for BokehJS stylesheet: \", url);\n      document.body.appendChild(element);\n    }\n\n    for (var i = 0; i < js_urls.length; i++) {\n      var url = js_urls[i];\n      var element = document.createElement('script');\n      element.onload = on_load;\n      element.onerror = on_error;\n      element.async = false;\n      element.src = url;\n      console.debug(\"Bokeh: injecting script tag for BokehJS library: \", url);\n      document.head.appendChild(element);\n    }\n  };var element = document.getElementById(\"1001\");\n  if (element == null) {\n    console.error(\"Bokeh: ERROR: autoload.js configured with elementid '1001' but no matching script tag was found. \")\n    return false;\n  }\n\n  function inject_raw_css(css) {\n    const element = document.createElement(\"style\");\n    element.appendChild(document.createTextNode(css));\n    document.body.appendChild(element);\n  }\n\n  var js_urls = [\"https://cdn.pydata.org/bokeh/release/bokeh-1.3.4.min.js\", \"https://cdn.pydata.org/bokeh/release/bokeh-widgets-1.3.4.min.js\", \"https://cdn.pydata.org/bokeh/release/bokeh-tables-1.3.4.min.js\", \"https://cdn.pydata.org/bokeh/release/bokeh-gl-1.3.4.min.js\"];\n  var css_urls = [];\n\n  var inline_js = [\n    function(Bokeh) {\n      Bokeh.set_log_level(\"info\");\n    },\n    \n    function(Bokeh) {\n      \n    },\n    function(Bokeh) {} // ensure no trailing comma for IE\n  ];\n\n  function run_inline_js() {\n    \n    if ((root.Bokeh !== undefined) || (force === true)) {\n      for (var i = 0; i < inline_js.length; i++) {\n        inline_js[i].call(root, root.Bokeh);\n      }if (force === true) {\n        display_loaded();\n      }} else if (Date.now() < root._bokeh_timeout) {\n      setTimeout(run_inline_js, 100);\n    } else if (!root._bokeh_failed_load) {\n      console.log(\"Bokeh: BokehJS failed to load within specified timeout.\");\n      root._bokeh_failed_load = true;\n    } else if (force !== true) {\n      var cell = $(document.getElementById(\"1001\")).parents('.cell').data().cell;\n      cell.output_area.append_execute_result(NB_LOAD_WARNING)\n    }\n\n  }\n\n  if (root._bokeh_is_loading === 0) {\n    console.debug(\"Bokeh: BokehJS loaded, going straight to plotting\");\n    run_inline_js();\n  } else {\n    load_libs(css_urls, js_urls, function() {\n      console.debug(\"Bokeh: BokehJS plotting callback run at\", now());\n      run_inline_js();\n    });\n  }\n}(window));"
     },
     "metadata": {},
     "output_type": "display_data"
    }
   ],
   "source": [
    "from bokeh.models import ColumnDataSource, LabelSet\n",
    "from bokeh.plotting import figure, show, output_file\n",
    "from bokeh.io import output_notebook\n",
    "output_notebook()"
   ]
  },
  {
   "cell_type": "markdown",
   "metadata": {},
   "source": [
    "### Part 0: Download the TED dataset"
   ]
  },
  {
   "cell_type": "code",
   "execution_count": 4,
   "metadata": {},
   "outputs": [],
   "source": [
    "import urllib.request\n",
    "import zipfile\n",
    "import lxml.etree"
   ]
  },
  {
   "cell_type": "code",
   "execution_count": 4,
   "metadata": {},
   "outputs": [],
   "source": [
    "# Download the dataset if it's not already there: this may take a minute as it is 75MB\n",
    "if not os.path.isfile('ted_en-20160408.zip'):\n",
    "    urllib.request.urlretrieve(\"https://wit3.fbk.eu/get.php?path=XML_releases/xml/ted_en-20160408.zip&filename=ted_en-20160408.zip\", filename=\"ted_en-20160408.zip\")"
   ]
  },
  {
   "cell_type": "code",
   "execution_count": 5,
   "metadata": {},
   "outputs": [],
   "source": [
    "# For now, we're only interested in the subtitle text, so let's extract that from the XML:\n",
    "with zipfile.ZipFile('ted_en-20160408.zip', 'r') as z:\n",
    "    doc = lxml.etree.parse(z.open('ted_en-20160408.xml', 'r'))\n",
    "input_text = '\\n'.join(doc.xpath('//content/text()'))\n",
    "del doc"
   ]
  },
  {
   "cell_type": "markdown",
   "metadata": {},
   "source": [
    "### Part 1: Preprocessing\n",
    "\n",
    "In this part, we attempt to clean up the raw subtitles a bit, so that we get only sentences. The following substring shows examples of what we're trying to get rid of. Since it's hard to define precisely what we want to get rid of, we'll just use some simple heuristics."
   ]
  },
  {
   "cell_type": "code",
   "execution_count": 6,
   "metadata": {
    "scrolled": false
   },
   "outputs": [
    {
     "data": {
      "text/plain": [
       "' baby does.\\n(Video) Hyowon Gweon: See this? (Ball squeaks) Did you see that? (Ball squeaks) Cool. See this one? (Ball squeaks) Wow.\\nLaura Schulz: Told you. (Laughs)\\n(Vide'"
      ]
     },
     "execution_count": 6,
     "metadata": {},
     "output_type": "execute_result"
    }
   ],
   "source": [
    "i = input_text.find(\"Hyowon Gweon: See this?\")\n",
    "input_text[i-20:i+150]"
   ]
  },
  {
   "cell_type": "markdown",
   "metadata": {},
   "source": [
    "Let's start by removing all parenthesized strings using a regex:"
   ]
  },
  {
   "cell_type": "code",
   "execution_count": 7,
   "metadata": {},
   "outputs": [],
   "source": [
    "input_text_noparens = re.sub(r'\\([^)]*\\)', '', input_text)"
   ]
  },
  {
   "cell_type": "markdown",
   "metadata": {},
   "source": [
    "We can verify the same location in the text is now clean as follows. We won't worry about the irregular spaces since we'll later split the text into sentences and tokenize it anyway."
   ]
  },
  {
   "cell_type": "code",
   "execution_count": 8,
   "metadata": {},
   "outputs": [
    {
     "data": {
      "text/plain": [
       "\"hat the baby does.\\n Hyowon Gweon: See this?  Did you see that?  Cool. See this one?  Wow.\\nLaura Schulz: Told you. \\n HG: See this one?  Hey Clara, this one's for you. You \""
      ]
     },
     "execution_count": 8,
     "metadata": {},
     "output_type": "execute_result"
    }
   ],
   "source": [
    "i = input_text_noparens.find(\"Hyowon Gweon: See this?\")\n",
    "input_text_noparens[i-20:i+150]"
   ]
  },
  {
   "cell_type": "markdown",
   "metadata": {},
   "source": [
    "Now, let's attempt to remove speakers' names that occur at the beginning of a line, by deleting pieces of the form \"`<up to 20 characters>:`\", as shown in this example. Of course, this is an imperfect heuristic. "
   ]
  },
  {
   "cell_type": "code",
   "execution_count": 9,
   "metadata": {},
   "outputs": [
    {
     "data": {
      "text/plain": [
       "[\"Here are two reasons companies fail: they only do more of the same, or they only do what's new\",\n",
       " 'To me the real, real solution to quality growth is figuring out the balance between two activities: exploration and exploitation',\n",
       " ' Both are necessary, but it can be too much of a good thing',\n",
       " 'Consider Facit',\n",
       " \" I'm actually old enough to remember them\"]"
      ]
     },
     "execution_count": 9,
     "metadata": {},
     "output_type": "execute_result"
    }
   ],
   "source": [
    "sentences_strings_ted = []\n",
    "for line in input_text_noparens.split('\\n'):\n",
    "    m = re.match(r'^(?:(?P<precolon>[^:]{,20}):)?(?P<postcolon>.*)$', line)\n",
    "    sentences_strings_ted.extend(sent for sent in m.groupdict()['postcolon'].split('.') if sent)\n",
    "\n",
    "# Uncomment if you need to save some RAM: these strings are about 50MB.\n",
    "# del input_text, input_text_noparens\n",
    "\n",
    "# Let's view the first few:\n",
    "sentences_strings_ted[:5]"
   ]
  },
  {
   "cell_type": "markdown",
   "metadata": {},
   "source": [
    "Now that we have sentences, we're ready to tokenize each of them into words. This tokenization is imperfect, of course. For instance, how many tokens is \"can't\", and where/how do we split it? We'll take the simplest naive approach of splitting on spaces. Before splitting, we remove non-alphanumeric characters, such as punctuation. You may want to consider the following question: why do we replace these characters with spaces rather than deleting them? Think of a case where this yields a different answer."
   ]
  },
  {
   "cell_type": "code",
   "execution_count": 10,
   "metadata": {},
   "outputs": [],
   "source": [
    "sentences_ted = []\n",
    "for sent_str in sentences_strings_ted:\n",
    "    tokens = re.sub(r\"[^a-z0-9]+\", \" \", sent_str.lower()).split()\n",
    "    sentences_ted.append(tokens)"
   ]
  },
  {
   "cell_type": "markdown",
   "metadata": {},
   "source": [
    "Two sample processed sentences:"
   ]
  },
  {
   "cell_type": "code",
   "execution_count": 11,
   "metadata": {},
   "outputs": [
    {
     "data": {
      "text/plain": [
       "266694"
      ]
     },
     "execution_count": 11,
     "metadata": {},
     "output_type": "execute_result"
    }
   ],
   "source": [
    "len(sentences_ted)"
   ]
  },
  {
   "cell_type": "code",
   "execution_count": 11,
   "metadata": {},
   "outputs": [
    {
     "name": "stdout",
     "output_type": "stream",
     "text": [
      "['here', 'are', 'two', 'reasons', 'companies', 'fail', 'they', 'only', 'do', 'more', 'of', 'the', 'same', 'or', 'they', 'only', 'do', 'what', 's', 'new']\n",
      "['to', 'me', 'the', 'real', 'real', 'solution', 'to', 'quality', 'growth', 'is', 'figuring', 'out', 'the', 'balance', 'between', 'two', 'activities', 'exploration', 'and', 'exploitation']\n"
     ]
    }
   ],
   "source": [
    "print(sentences_ted[0])\n",
    "print(sentences_ted[1])"
   ]
  },
  {
   "cell_type": "markdown",
   "metadata": {},
   "source": [
    "### Part 2: Word Frequencies"
   ]
  },
  {
   "cell_type": "markdown",
   "metadata": {},
   "source": [
    "If you store the counts of the top 1000 words in a list called `counts_ted_top1000`, the code below will plot the histogram requested in the writeup."
   ]
  },
  {
   "cell_type": "code",
   "execution_count": 20,
   "metadata": {},
   "outputs": [
    {
     "name": "stdout",
     "output_type": "stream",
     "text": [
      "266694\n",
      "here are two reasons companies fail they only do more of the same or they only do what s new\n",
      "to me the real real solution to quality growth is figuring out the balance between two activities exploration and exploitation\n"
     ]
    }
   ],
   "source": [
    "# 'sentences_ted' is a list of list. If we directly use CountVectorizer,\n",
    "# we will get an error 'AttributeError: 'list' object has no attribute 'lower''\n",
    "# check out the answer here: https://stackoverflow.com/questions/52082477/python-list-error-for-count-vectorizer-and-fit-function\n",
    "# I don't want to change the original code of the practical, so I just create a \n",
    "# new variable here.\n",
    "sentences_ted_str = []\n",
    "for sent_str in sentences_strings_ted:\n",
    "    tokens = re.sub(r\"[^a-z0-9]+\", \" \", sent_str.lower()).split()\n",
    "    sentences_ted_str.append(' '.join(tokens))\n",
    "print(len(sentences_ted_str))\n",
    "print(sentences_ted_str[0])\n",
    "print(sentences_ted_str[1])"
   ]
  },
  {
   "cell_type": "code",
   "execution_count": 23,
   "metadata": {},
   "outputs": [
    {
     "name": "stdout",
     "output_type": "stream",
     "text": [
      "(266694, 54418)\n",
      "<class 'scipy.sparse.csr.csr_matrix'>\n"
     ]
    }
   ],
   "source": [
    "# count the words #\n",
    "from sklearn.feature_extraction.text import CountVectorizer\n",
    "# create the transform\n",
    "vectorizer = CountVectorizer()\n",
    "# tokenize and build vocab\n",
    "vectorizer.fit(sentences_ted_str)\n",
    "# encode document\n",
    "vector = vectorizer.transform(sentences_ted_str)\n",
    "# summarize encoded vector\n",
    "print(vector.shape)\n",
    "print(type(vector))"
   ]
  },
  {
   "cell_type": "code",
   "execution_count": 63,
   "metadata": {},
   "outputs": [
    {
     "name": "stdout",
     "output_type": "stream",
     "text": [
      "(1, 54418)\n"
     ]
    }
   ],
   "source": [
    "# get the top 1000 words #\n",
    "# get the total count for each word\n",
    "wc = vector.sum(axis=0)\n",
    "print(wc.shape)\n",
    "# get the top 1000. BTW, the type of 'wc' is numpy matrix \n",
    "wc.sort(axis=1)\n",
    "counts_ted_top1000 = wc[0,-1000:]"
   ]
  },
  {
   "cell_type": "markdown",
   "metadata": {},
   "source": [
    "Plot distribution of top-1000 words"
   ]
  },
  {
   "cell_type": "code",
   "execution_count": 61,
   "metadata": {},
   "outputs": [
    {
     "name": "stderr",
     "output_type": "stream",
     "text": [
      "/home/mengyah/anaconda3/lib/python3.7/site-packages/ipykernel_launcher.py:1: DeprecationWarning: The normed argument is ignored when density is provided. In future passing both will result in an error.\n",
      "  \"\"\"Entry point for launching an IPython kernel.\n"
     ]
    },
    {
     "data": {
      "text/html": [
       "\n",
       "\n",
       "\n",
       "\n",
       "\n",
       "\n",
       "  <div class=\"bk-root\" id=\"832347fd-5211-4dd6-b1c6-263e229bd7b3\" data-root-id=\"1086\"></div>\n"
      ]
     },
     "metadata": {},
     "output_type": "display_data"
    },
    {
     "data": {
      "application/javascript": [
       "(function(root) {\n",
       "  function embed_document(root) {\n",
       "    \n",
       "  var docs_json = {\"3d91ad73-3721-43dd-b298-bce5add6da15\":{\"roots\":{\"references\":[{\"attributes\":{\"below\":[{\"id\":\"1097\",\"type\":\"LinearAxis\"}],\"center\":[{\"id\":\"1101\",\"type\":\"Grid\"},{\"id\":\"1106\",\"type\":\"Grid\"}],\"left\":[{\"id\":\"1102\",\"type\":\"LinearAxis\"}],\"renderers\":[{\"id\":\"1119\",\"type\":\"GlyphRenderer\"}],\"title\":{\"id\":\"1087\",\"type\":\"Title\"},\"toolbar\":{\"id\":\"1111\",\"type\":\"Toolbar\"},\"toolbar_location\":\"above\",\"x_range\":{\"id\":\"1089\",\"type\":\"DataRange1d\"},\"x_scale\":{\"id\":\"1093\",\"type\":\"LinearScale\"},\"y_range\":{\"id\":\"1091\",\"type\":\"DataRange1d\"},\"y_scale\":{\"id\":\"1095\",\"type\":\"LinearScale\"}},\"id\":\"1086\",\"subtype\":\"Figure\",\"type\":\"Plot\"},{\"attributes\":{\"callback\":null,\"data\":{\"left\":{\"__ndarray__\":\"AAAAAADweEAUrkfh+lCjQBSuR+H6wbFAHoXrUXjbuUAUrkfhevrAQJmZmZk5B8VAHoXrUfgTyUCjcD0KtyDNQBSuR+G6ltBA1qNwPRqd0kCZmZmZeaPUQFyPwvXYqdZAHoXrUTiw2EDgehSul7baQKNwPQr3vNxAZmZmZlbD3kAUrkfh2mTgQPUoXI8KaOFA1qNwPTpr4kC4HoXraW7jQJmZmZmZceRAehSuR8l05UBcj8L1+HfmQD0K16Moe+dAHoXrUVh+6ED/////h4HpQOB6FK63hOpAwvUoXOeH60CjcD0KF4vsQITrUbhGju1AZmZmZnaR7kBH4XoUppTvQBSuR+HqS/BAhetRuILN8ED1KFyPGk/xQGZmZmay0PFA1qNwPUpS8kBH4XoU4tPyQLgehet5VfNAKFyPwhHX80CZmZmZqVj0QArXo3BB2vRAehSuR9lb9UDrUbgecd31QFyPwvUIX/ZAzMzMzKDg9kA9CtejOGL3QK1H4XrQ4/dAHoXrUWhl+ECPwvUoAOf4QP////+XaPlAcD0K1y/q+UDgehSux2v6QFG4HoVf7fpAwvUoXPdu+0AyMzMzj/D7QKNwPQoncvxAFK5H4b7z/ECE61G4VnX9QPUoXI/u9v1AZmZmZoZ4/kDWo3A9Hvr+QEfhehS2e/9Atx6F6039/0AUrkfhcj8AQczMzMw+gABBhetRuArBAEE9Ctej1gEBQfUoXI+iQgFBrkfhem6DAUFmZmZmOsQBQR6F61EGBQJB1qNwPdJFAkGPwvUonoYCQUfhehRqxwJB/////zUIA0G4HoXrAUkDQXA9CtfNiQNBKFyPwpnKA0HhehSuZQsEQZmZmZkxTARBUbgehf2MBEEK16Nwyc0EQcL1KFyVDgVBehSuR2FPBUEzMzMzLZAFQetRuB750AVBo3A9CsURBkFcj8L1kFIGQRSuR+FckwZBzMzMzCjUBkGE61G49BQHQT0K16PAVQdB9Shcj4yWB0GtR+F6WNcHQWZmZmYkGAhBHoXrUfBYCEHWo3A9vJkIQY/C9SiI2ghBR+F6FFQbCUE=\",\"dtype\":\"float64\",\"shape\":[100]},\"right\":{\"__ndarray__\":\"FK5H4fpQo0AUrkfh+sGxQB6F61F427lAFK5H4Xr6wECZmZmZOQfFQB6F61H4E8lAo3A9CrcgzUAUrkfhupbQQNajcD0andJAmZmZmXmj1EBcj8L12KnWQB6F61E4sNhA4HoUrpe22kCjcD0K97zcQGZmZmZWw95AFK5H4dpk4ED1KFyPCmjhQNajcD06a+JAuB6F62lu40CZmZmZmXHkQHoUrkfJdOVAXI/C9fh35kA9CtejKHvnQB6F61FYfuhA/////4eB6UDgehSut4TqQML1KFznh+tAo3A9CheL7ECE61G4Ro7tQGZmZmZ2ke5AR+F6FKaU70AUrkfh6kvwQIXrUbiCzfBA9ShcjxpP8UBmZmZmstDxQNajcD1KUvJAR+F6FOLT8kC4HoXreVXzQChcj8IR1/NAmZmZmalY9EAK16NwQdr0QHoUrkfZW/VA61G4HnHd9UBcj8L1CF/2QMzMzMyg4PZAPQrXozhi90CtR+F60OP3QB6F61FoZfhAj8L1KADn+ED/////l2j5QHA9Ctcv6vlA4HoUrsdr+kBRuB6FX+36QML1KFz3bvtAMjMzM4/w+0CjcD0KJ3L8QBSuR+G+8/xAhOtRuFZ1/UD1KFyP7vb9QGZmZmaGeP5A1qNwPR76/kBH4XoUtnv/QLcehetN/f9AFK5H4XI/AEHMzMzMPoAAQYXrUbgKwQBBPQrXo9YBAUH1KFyPokIBQa5H4XpugwFBZmZmZjrEAUEehetRBgUCQdajcD3SRQJBj8L1KJ6GAkFH4XoUascCQf////81CANBuB6F6wFJA0FwPQrXzYkDQShcj8KZygNB4XoUrmULBEGZmZmZMUwEQVG4HoX9jARBCtejcMnNBEHC9ShclQ4FQXoUrkdhTwVBMzMzMy2QBUHrUbge+dAFQaNwPQrFEQZBXI/C9ZBSBkEUrkfhXJMGQczMzMwo1AZBhOtRuPQUB0E9CtejwFUHQfUoXI+MlgdBrUfheljXB0FmZmZmJBgIQR6F61HwWAhB1qNwPbyZCEGPwvUoiNoIQUfhehRUGwlBAAAAACBcCUE=\",\"dtype\":\"float64\",\"shape\":[100]},\"top\":{\"__ndarray__\":\"ZBqztziyOT+SMBnr7vAAP6NIXWW4VO0+DGJUw5U04j59rPUCvi7gPizNEURFQNY+DGJUw5U00j59rPUCvi7APsKCcAQdRsg+eaz1Ar4uwD55rPUCvi6gPoGs9QK+LrA+gaz1Ar4uwD55rPUCvi6gPnms9QK+LrA+gaz1Ar4uoD4AAAAAAAAAAIGs9QK+LqA+AAAAAAAAAAAAAAAAAAAAAAAAAAAAAAAAAAAAAAAAAAAAAAAAAAAAAIGs9QK+LqA+AAAAAAAAAAAAAAAAAAAAAAAAAAAAAAAAAAAAAAAAAAAAAAAAAAAAAAAAAAAAAAAAgaz1Ar4uoD4AAAAAAAAAAHGs9QK+LqA+AAAAAAAAAABxrPUCvi6gPpGs9QK+LqA+AAAAAAAAAABxrPUCvi6gPgAAAAAAAAAAAAAAAAAAAAAAAAAAAAAAAAAAAAAAAAAAAAAAAAAAAAAAAAAAAAAAAAAAAAAAAAAAcaz1Ar4uoD4AAAAAAAAAAAAAAAAAAAAAAAAAAAAAAAAAAAAAAAAAAAAAAAAAAAAAAAAAAAAAAAAAAAAAAAAAAAAAAAAAAAAAAAAAAAAAAABxrPUCvi6gPgAAAAAAAAAAAAAAAAAAAAAAAAAAAAAAAAAAAAAAAAAAkaz1Ar4uoD4AAAAAAAAAAAAAAAAAAAAAAAAAAAAAAAAAAAAAAAAAAAAAAAAAAAAAAAAAAAAAAAAAAAAAAAAAAAAAAAAAAAAAAAAAAAAAAAAAAAAAAAAAAJGs9QK+LqA+AAAAAAAAAAAAAAAAAAAAAAAAAAAAAAAAAAAAAAAAAAAAAAAAAAAAAAAAAAAAAAAAAAAAAAAAAAAAAAAAAAAAAAAAAAAAAAAAAAAAAAAAAAAAAAAAAAAAAAAAAAAAAAAAAAAAAAAAAAAAAAAAAAAAAAAAAAAAAAAAAAAAAAAAAAAAAAAAAAAAAAAAAAAAAAAAAAAAAAAAAAAAAAAAAAAAAAAAAAAAAAAAAAAAAAAAAAAAAAAAAAAAAAAAAAAAAAAAAAAAAAAAAAAAAAAAAAAAAAAAAAAAAAAAUaz1Ar4uoD4=\",\"dtype\":\"float64\",\"shape\":[100]}},\"selected\":{\"id\":\"1134\",\"type\":\"Selection\"},\"selection_policy\":{\"id\":\"1133\",\"type\":\"UnionRenderers\"}},\"id\":\"1116\",\"type\":\"ColumnDataSource\"},{\"attributes\":{\"data_source\":{\"id\":\"1116\",\"type\":\"ColumnDataSource\"},\"glyph\":{\"id\":\"1117\",\"type\":\"Quad\"},\"hover_glyph\":null,\"muted_glyph\":null,\"nonselection_glyph\":{\"id\":\"1118\",\"type\":\"Quad\"},\"selection_glyph\":null,\"view\":{\"id\":\"1120\",\"type\":\"CDSView\"}},\"id\":\"1119\",\"type\":\"GlyphRenderer\"},{\"attributes\":{\"source\":{\"id\":\"1116\",\"type\":\"ColumnDataSource\"}},\"id\":\"1120\",\"type\":\"CDSView\"},{\"attributes\":{\"bottom\":{\"value\":0},\"fill_color\":{\"value\":\"#1f77b4\"},\"left\":{\"field\":\"left\"},\"line_color\":{\"value\":\"#555555\"},\"right\":{\"field\":\"right\"},\"top\":{\"field\":\"top\"}},\"id\":\"1117\",\"type\":\"Quad\"},{\"attributes\":{},\"id\":\"1103\",\"type\":\"BasicTicker\"},{\"attributes\":{\"callback\":null},\"id\":\"1091\",\"type\":\"DataRange1d\"},{\"attributes\":{\"bottom\":{\"value\":0},\"fill_alpha\":{\"value\":0.1},\"fill_color\":{\"value\":\"#1f77b4\"},\"left\":{\"field\":\"left\"},\"line_alpha\":{\"value\":0.1},\"line_color\":{\"value\":\"#1f77b4\"},\"right\":{\"field\":\"right\"},\"top\":{\"field\":\"top\"}},\"id\":\"1118\",\"type\":\"Quad\"},{\"attributes\":{\"dimension\":1,\"ticker\":{\"id\":\"1103\",\"type\":\"BasicTicker\"}},\"id\":\"1106\",\"type\":\"Grid\"},{\"attributes\":{},\"id\":\"1132\",\"type\":\"BasicTickFormatter\"},{\"attributes\":{},\"id\":\"1134\",\"type\":\"Selection\"},{\"attributes\":{},\"id\":\"1093\",\"type\":\"LinearScale\"},{\"attributes\":{\"text\":\"Top-1000 words distribution\"},\"id\":\"1087\",\"type\":\"Title\"},{\"attributes\":{},\"id\":\"1110\",\"type\":\"SaveTool\"},{\"attributes\":{},\"id\":\"1108\",\"type\":\"WheelZoomTool\"},{\"attributes\":{},\"id\":\"1095\",\"type\":\"LinearScale\"},{\"attributes\":{\"ticker\":{\"id\":\"1098\",\"type\":\"BasicTicker\"}},\"id\":\"1101\",\"type\":\"Grid\"},{\"attributes\":{},\"id\":\"1133\",\"type\":\"UnionRenderers\"},{\"attributes\":{\"formatter\":{\"id\":\"1130\",\"type\":\"BasicTickFormatter\"},\"ticker\":{\"id\":\"1098\",\"type\":\"BasicTicker\"}},\"id\":\"1097\",\"type\":\"LinearAxis\"},{\"attributes\":{\"active_drag\":\"auto\",\"active_inspect\":\"auto\",\"active_multi\":null,\"active_scroll\":\"auto\",\"active_tap\":\"auto\",\"tools\":[{\"id\":\"1107\",\"type\":\"PanTool\"},{\"id\":\"1108\",\"type\":\"WheelZoomTool\"},{\"id\":\"1109\",\"type\":\"ResetTool\"},{\"id\":\"1110\",\"type\":\"SaveTool\"}]},\"id\":\"1111\",\"type\":\"Toolbar\"},{\"attributes\":{\"formatter\":{\"id\":\"1132\",\"type\":\"BasicTickFormatter\"},\"ticker\":{\"id\":\"1103\",\"type\":\"BasicTicker\"}},\"id\":\"1102\",\"type\":\"LinearAxis\"},{\"attributes\":{},\"id\":\"1098\",\"type\":\"BasicTicker\"},{\"attributes\":{\"callback\":null},\"id\":\"1089\",\"type\":\"DataRange1d\"},{\"attributes\":{},\"id\":\"1107\",\"type\":\"PanTool\"},{\"attributes\":{},\"id\":\"1109\",\"type\":\"ResetTool\"},{\"attributes\":{},\"id\":\"1130\",\"type\":\"BasicTickFormatter\"}],\"root_ids\":[\"1086\"]},\"title\":\"Bokeh Application\",\"version\":\"1.3.4\"}};\n",
       "  var render_items = [{\"docid\":\"3d91ad73-3721-43dd-b298-bce5add6da15\",\"roots\":{\"1086\":\"832347fd-5211-4dd6-b1c6-263e229bd7b3\"}}];\n",
       "  root.Bokeh.embed.embed_items_notebook(docs_json, render_items);\n",
       "\n",
       "  }\n",
       "  if (root.Bokeh !== undefined) {\n",
       "    embed_document(root);\n",
       "  } else {\n",
       "    var attempts = 0;\n",
       "    var timer = setInterval(function(root) {\n",
       "      if (root.Bokeh !== undefined) {\n",
       "        embed_document(root);\n",
       "        clearInterval(timer);\n",
       "      }\n",
       "      attempts++;\n",
       "      if (attempts > 100) {\n",
       "        console.log(\"Bokeh: ERROR: Unable to run BokehJS code because BokehJS library is missing\");\n",
       "        clearInterval(timer);\n",
       "      }\n",
       "    }, 10, root)\n",
       "  }\n",
       "})(window);"
      ],
      "application/vnd.bokehjs_exec.v0+json": ""
     },
     "metadata": {
      "application/vnd.bokehjs_exec.v0+json": {
       "id": "1086"
      }
     },
     "output_type": "display_data"
    }
   ],
   "source": [
    "hist, edges = np.histogram(counts_ted_top1000, density=True, bins=100, normed=True)\n",
    "\n",
    "p = figure(tools=\"pan,wheel_zoom,reset,save\",\n",
    "           toolbar_location=\"above\",\n",
    "           title=\"Top-1000 words distribution\")\n",
    "p.quad(top=hist, bottom=0, left=edges[:-1], right=edges[1:], line_color=\"#555555\")\n",
    "show(p)"
   ]
  },
  {
   "cell_type": "markdown",
   "metadata": {},
   "source": [
    "One note here: 'CountVectorizer' ignores single characters during tokenization. Thus, the result above may be different from the result including the single characters. An example is shown here:"
   ]
  },
  {
   "cell_type": "code",
   "execution_count": 137,
   "metadata": {},
   "outputs": [],
   "source": [
    "# here is Michael Leue's solution from https://github.com/mleue/oxford-deep-nlp-2017-solutions/blob/master/practical-1/practical1.ipynb\n",
    "import collections\n",
    "count = collections.Counter()\n",
    "for sentence in sentences_ted:\n",
    "    for word in sentence:\n",
    "        count[word] += 1\n",
    "words_top_ted = [token_count_pair[0] for token_count_pair in count.most_common(1000)]\n",
    "counts_ted_top10001 = [token_count_pair[1] for token_count_pair in count.most_common(1000)]"
   ]
  },
  {
   "cell_type": "code",
   "execution_count": 66,
   "metadata": {},
   "outputs": [
    {
     "name": "stdout",
     "output_type": "stream",
     "text": [
      "[[ 63251  67629  70923  74738  78070  95146 114818 125169 149305 207748]]\n",
      "[207748, 149305, 125169, 114818, 105399, 95146, 83180, 78070, 74738, 70923]\n"
     ]
    }
   ],
   "source": [
    "print(counts_ted_top1000[0,-10:])\n",
    "print(counts_ted_top10001[0:10])"
   ]
  },
  {
   "cell_type": "code",
   "execution_count": 70,
   "metadata": {},
   "outputs": [
    {
     "data": {
      "text/plain": [
       "'i'"
      ]
     },
     "execution_count": 70,
     "metadata": {},
     "output_type": "execute_result"
    }
   ],
   "source": [
    "rev = {v: k for k, v in count.items()}\n",
    "rev[83180]"
   ]
  },
  {
   "cell_type": "markdown",
   "metadata": {},
   "source": [
    "As we can see, my result and Michael's result are different. This makes sense, as 'CountVectorizer' ignores single characters during tokenization. However, judging from the later parts, this practical does not want to ingore single character words like 'i'. Thus, I will just keep Michael's result here. "
   ]
  },
  {
   "cell_type": "markdown",
   "metadata": {},
   "source": [
    "### Part 3: Train Word2Vec"
   ]
  },
  {
   "cell_type": "code",
   "execution_count": 72,
   "metadata": {},
   "outputs": [],
   "source": [
    "from gensim.models import Word2Vec"
   ]
  },
  {
   "cell_type": "code",
   "execution_count": 74,
   "metadata": {},
   "outputs": [],
   "source": [
    "# for gensim, the input: Each sentence a list of words (utf8 strings):\n",
    "model_ted = Word2Vec(sentences_ted, min_count=1) # this takes less than 1 minute on my machine"
   ]
  },
  {
   "cell_type": "markdown",
   "metadata": {},
   "source": [
    "### Part 4: Ted Learnt Representations"
   ]
  },
  {
   "cell_type": "markdown",
   "metadata": {},
   "source": [
    "Finding similar words: (see gensim docs for more functionality of `most_similar`)"
   ]
  },
  {
   "cell_type": "code",
   "execution_count": 75,
   "metadata": {},
   "outputs": [
    {
     "name": "stderr",
     "output_type": "stream",
     "text": [
      "/home/mengyah/anaconda3/lib/python3.7/site-packages/ipykernel_launcher.py:1: DeprecationWarning: Call to deprecated `most_similar` (Method will be removed in 4.0.0, use self.wv.most_similar() instead).\n",
      "  \"\"\"Entry point for launching an IPython kernel.\n"
     ]
    },
    {
     "data": {
      "text/plain": [
       "[('woman', 0.8406665325164795),\n",
       " ('guy', 0.816347062587738),\n",
       " ('lady', 0.7908732891082764),\n",
       " ('girl', 0.7598938345909119),\n",
       " ('soldier', 0.7566073536872864),\n",
       " ('gentleman', 0.7484695911407471),\n",
       " ('boy', 0.7469462156295776),\n",
       " ('david', 0.6906865835189819),\n",
       " ('poet', 0.6865618228912354),\n",
       " ('kid', 0.6824632883071899)]"
      ]
     },
     "execution_count": 75,
     "metadata": {},
     "output_type": "execute_result"
    }
   ],
   "source": [
    "model_ted.most_similar(\"man\")"
   ]
  },
  {
   "cell_type": "code",
   "execution_count": 76,
   "metadata": {},
   "outputs": [
    {
     "name": "stderr",
     "output_type": "stream",
     "text": [
      "/home/mengyah/anaconda3/lib/python3.7/site-packages/ipykernel_launcher.py:1: DeprecationWarning: Call to deprecated `most_similar` (Method will be removed in 4.0.0, use self.wv.most_similar() instead).\n",
      "  \"\"\"Entry point for launching an IPython kernel.\n"
     ]
    },
    {
     "data": {
      "text/plain": [
       "[('machine', 0.7571374177932739),\n",
       " ('software', 0.73600834608078),\n",
       " ('device', 0.6881433129310608),\n",
       " ('interface', 0.6734181046485901),\n",
       " ('robot', 0.6679286360740662),\n",
       " ('3d', 0.6551786661148071),\n",
       " ('printer', 0.6543788909912109),\n",
       " ('program', 0.6482037305831909),\n",
       " ('camera', 0.6397494077682495),\n",
       " ('game', 0.6228448152542114)]"
      ]
     },
     "execution_count": 76,
     "metadata": {},
     "output_type": "execute_result"
    }
   ],
   "source": [
    "model_ted.most_similar(\"computer\")"
   ]
  },
  {
   "cell_type": "code",
   "execution_count": 77,
   "metadata": {},
   "outputs": [
    {
     "name": "stderr",
     "output_type": "stream",
     "text": [
      "/home/mengyah/anaconda3/lib/python3.7/site-packages/ipykernel_launcher.py:1: DeprecationWarning: Call to deprecated `most_similar` (Method will be removed in 4.0.0, use self.wv.most_similar() instead).\n",
      "  \"\"\"Entry point for launching an IPython kernel.\n"
     ]
    },
    {
     "data": {
      "text/plain": [
       "[('hate', 0.6153411865234375),\n",
       " ('fear', 0.5587862133979797),\n",
       " ('feel', 0.5500969886779785),\n",
       " ('poetry', 0.5359469056129456),\n",
       " ('sing', 0.5343461632728577),\n",
       " ('hope', 0.5247131586074829),\n",
       " ('hear', 0.5203284025192261),\n",
       " ('lunchmate', 0.5190479755401611),\n",
       " ('joy', 0.5129758715629578),\n",
       " ('loved', 0.5081714391708374)]"
      ]
     },
     "execution_count": 77,
     "metadata": {},
     "output_type": "execute_result"
    }
   ],
   "source": [
    "model_ted.most_similar(\"love\")"
   ]
  },
  {
   "cell_type": "code",
   "execution_count": 78,
   "metadata": {},
   "outputs": [
    {
     "name": "stderr",
     "output_type": "stream",
     "text": [
      "/home/mengyah/anaconda3/lib/python3.7/site-packages/ipykernel_launcher.py:1: DeprecationWarning: Call to deprecated `most_similar` (Method will be removed in 4.0.0, use self.wv.most_similar() instead).\n",
      "  \"\"\"Entry point for launching an IPython kernel.\n"
     ]
    },
    {
     "data": {
      "text/plain": [
       "[('myself', 0.6268762350082397),\n",
       " ('you', 0.5369234085083008),\n",
       " ('we', 0.5291538238525391),\n",
       " ('dad', 0.49471062421798706),\n",
       " ('godammit', 0.4769575595855713),\n",
       " ('voice', 0.4634573757648468),\n",
       " ('mom', 0.45205172896385193),\n",
       " ('newsfeed', 0.4488353133201599),\n",
       " ('poetry', 0.44860103726387024),\n",
       " ('she', 0.4369257986545563)]"
      ]
     },
     "execution_count": 78,
     "metadata": {},
     "output_type": "execute_result"
    }
   ],
   "source": [
    "model_ted.most_similar(\"i\")"
   ]
  },
  {
   "cell_type": "markdown",
   "metadata": {},
   "source": [
    "#### t-SNE visualization\n",
    "To use the t-SNE code below, first put a list of the top 1000 words (as strings) into a variable `words_top_ted`. The following code gets the corresponding vectors from the model, assuming it's called `model_ted`:"
   ]
  },
  {
   "cell_type": "code",
   "execution_count": 79,
   "metadata": {},
   "outputs": [
    {
     "name": "stderr",
     "output_type": "stream",
     "text": [
      "/home/mengyah/anaconda3/lib/python3.7/site-packages/ipykernel_launcher.py:2: DeprecationWarning: Call to deprecated `__getitem__` (Method will be removed in 4.0.0, use self.wv.__getitem__() instead).\n",
      "  \n"
     ]
    }
   ],
   "source": [
    "# This assumes words_top_ted is a list of strings, the top 1000 words\n",
    "words_top_vec_ted = model_ted[words_top_ted] # 'words_top_ted' has been calculated in part 2"
   ]
  },
  {
   "cell_type": "code",
   "execution_count": 80,
   "metadata": {},
   "outputs": [],
   "source": [
    "from sklearn.manifold import TSNE\n",
    "tsne = TSNE(n_components=2, random_state=0)\n",
    "words_top_ted_tsne = tsne.fit_transform(words_top_vec_ted)"
   ]
  },
  {
   "cell_type": "code",
   "execution_count": 81,
   "metadata": {},
   "outputs": [
    {
     "data": {
      "text/html": [
       "\n",
       "\n",
       "\n",
       "\n",
       "\n",
       "\n",
       "  <div class=\"bk-root\" id=\"a3c4cec0-a2d5-488d-833d-70a94d750317\" data-root-id=\"1275\"></div>\n"
      ]
     },
     "metadata": {},
     "output_type": "display_data"
    },
    {
     "data": {
      "application/javascript": [
       "(function(root) {\n",
       "  function embed_document(root) {\n",
       "    \n",
       "  var docs_json = {\"a25a08dd-6e13-4583-b4b0-a6b29a8a2a51\":{\"roots\":{\"references\":[{\"attributes\":{\"below\":[{\"id\":\"1286\",\"type\":\"LinearAxis\"}],\"center\":[{\"id\":\"1290\",\"type\":\"Grid\"},{\"id\":\"1295\",\"type\":\"Grid\"},{\"id\":\"1311\",\"type\":\"LabelSet\"}],\"left\":[{\"id\":\"1291\",\"type\":\"LinearAxis\"}],\"renderers\":[{\"id\":\"1309\",\"type\":\"GlyphRenderer\"}],\"title\":{\"id\":\"1276\",\"type\":\"Title\"},\"toolbar\":{\"id\":\"1300\",\"type\":\"Toolbar\"},\"toolbar_location\":\"above\",\"x_range\":{\"id\":\"1278\",\"type\":\"DataRange1d\"},\"x_scale\":{\"id\":\"1282\",\"type\":\"LinearScale\"},\"y_range\":{\"id\":\"1280\",\"type\":\"DataRange1d\"},\"y_scale\":{\"id\":\"1284\",\"type\":\"LinearScale\"}},\"id\":\"1275\",\"subtype\":\"Figure\",\"type\":\"Plot\"},{\"attributes\":{\"source\":{\"id\":\"1305\",\"type\":\"ColumnDataSource\"},\"text\":{\"field\":\"names\"},\"text_align\":\"center\",\"text_color\":{\"value\":\"#555555\"},\"text_font_size\":{\"value\":\"8pt\"},\"x\":{\"field\":\"x1\"},\"y\":{\"field\":\"x2\"},\"y_offset\":{\"value\":6}},\"id\":\"1311\",\"type\":\"LabelSet\"},{\"attributes\":{\"active_drag\":\"auto\",\"active_inspect\":\"auto\",\"active_multi\":null,\"active_scroll\":\"auto\",\"active_tap\":\"auto\",\"tools\":[{\"id\":\"1296\",\"type\":\"PanTool\"},{\"id\":\"1297\",\"type\":\"WheelZoomTool\"},{\"id\":\"1298\",\"type\":\"ResetTool\"},{\"id\":\"1299\",\"type\":\"SaveTool\"}]},\"id\":\"1300\",\"type\":\"Toolbar\"},{\"attributes\":{\"fill_color\":{\"value\":\"#1f77b4\"},\"line_color\":{\"value\":\"#1f77b4\"},\"size\":{\"units\":\"screen\",\"value\":8},\"x\":{\"field\":\"x1\"},\"y\":{\"field\":\"x2\"}},\"id\":\"1307\",\"type\":\"Scatter\"},{\"attributes\":{},\"id\":\"1340\",\"type\":\"Selection\"},{\"attributes\":{},\"id\":\"1284\",\"type\":\"LinearScale\"},{\"attributes\":{\"source\":{\"id\":\"1305\",\"type\":\"ColumnDataSource\"}},\"id\":\"1310\",\"type\":\"CDSView\"},{\"attributes\":{\"formatter\":{\"id\":\"1336\",\"type\":\"BasicTickFormatter\"},\"ticker\":{\"id\":\"1287\",\"type\":\"BasicTicker\"}},\"id\":\"1286\",\"type\":\"LinearAxis\"},{\"attributes\":{\"text\":\"word2vec T-SNE for most common words\"},\"id\":\"1276\",\"type\":\"Title\"},{\"attributes\":{},\"id\":\"1287\",\"type\":\"BasicTicker\"},{\"attributes\":{\"ticker\":{\"id\":\"1287\",\"type\":\"BasicTicker\"}},\"id\":\"1290\",\"type\":\"Grid\"},{\"attributes\":{},\"id\":\"1339\",\"type\":\"UnionRenderers\"},{\"attributes\":{},\"id\":\"1292\",\"type\":\"BasicTicker\"},{\"attributes\":{},\"id\":\"1336\",\"type\":\"BasicTickFormatter\"},{\"attributes\":{\"data_source\":{\"id\":\"1305\",\"type\":\"ColumnDataSource\"},\"glyph\":{\"id\":\"1307\",\"type\":\"Scatter\"},\"hover_glyph\":null,\"muted_glyph\":null,\"nonselection_glyph\":{\"id\":\"1308\",\"type\":\"Scatter\"},\"selection_glyph\":null,\"view\":{\"id\":\"1310\",\"type\":\"CDSView\"}},\"id\":\"1309\",\"type\":\"GlyphRenderer\"},{\"attributes\":{\"dimension\":1,\"ticker\":{\"id\":\"1292\",\"type\":\"BasicTicker\"}},\"id\":\"1295\",\"type\":\"Grid\"},{\"attributes\":{\"formatter\":{\"id\":\"1338\",\"type\":\"BasicTickFormatter\"},\"ticker\":{\"id\":\"1292\",\"type\":\"BasicTicker\"}},\"id\":\"1291\",\"type\":\"LinearAxis\"},{\"attributes\":{\"fill_alpha\":{\"value\":0.1},\"fill_color\":{\"value\":\"#1f77b4\"},\"line_alpha\":{\"value\":0.1},\"line_color\":{\"value\":\"#1f77b4\"},\"size\":{\"units\":\"screen\",\"value\":8},\"x\":{\"field\":\"x1\"},\"y\":{\"field\":\"x2\"}},\"id\":\"1308\",\"type\":\"Scatter\"},{\"attributes\":{},\"id\":\"1338\",\"type\":\"BasicTickFormatter\"},{\"attributes\":{\"callback\":null},\"id\":\"1278\",\"type\":\"DataRange1d\"},{\"attributes\":{\"callback\":null,\"data\":{\"names\":[\"the\",\"and\",\"to\",\"of\",\"a\",\"that\",\"i\",\"in\",\"it\",\"you\",\"we\",\"is\",\"s\",\"this\",\"so\",\"they\",\"was\",\"for\",\"are\",\"have\",\"but\",\"what\",\"on\",\"with\",\"can\",\"t\",\"about\",\"there\",\"be\",\"as\",\"at\",\"all\",\"not\",\"do\",\"my\",\"one\",\"re\",\"people\",\"like\",\"if\",\"from\",\"now\",\"our\",\"he\",\"an\",\"just\",\"these\",\"or\",\"when\",\"because\",\"very\",\"me\",\"out\",\"by\",\"them\",\"how\",\"know\",\"up\",\"going\",\"had\",\"more\",\"think\",\"who\",\"were\",\"see\",\"your\",\"their\",\"which\",\"would\",\"here\",\"really\",\"get\",\"ve\",\"then\",\"m\",\"world\",\"us\",\"time\",\"some\",\"has\",\"don\",\"actually\",\"into\",\"way\",\"where\",\"will\",\"years\",\"things\",\"other\",\"no\",\"could\",\"go\",\"well\",\"want\",\"been\",\"make\",\"right\",\"she\",\"said\",\"something\",\"those\",\"first\",\"two\",\"than\",\"much\",\"also\",\"look\",\"new\",\"thing\",\"little\",\"got\",\"back\",\"over\",\"most\",\"say\",\"even\",\"his\",\"life\",\"only\",\"work\",\"many\",\"take\",\"need\",\"did\",\"lot\",\"kind\",\"why\",\"good\",\"around\",\"every\",\"different\",\"down\",\"ll\",\"let\",\"her\",\"through\",\"same\",\"being\",\"come\",\"d\",\"day\",\"year\",\"three\",\"use\",\"doing\",\"put\",\"called\",\"any\",\"today\",\"percent\",\"made\",\"after\",\"thank\",\"tell\",\"great\",\"human\",\"find\",\"didn\",\"fact\",\"talk\",\"change\",\"started\",\"another\",\"idea\",\"big\",\"last\",\"own\",\"before\",\"its\",\"never\",\"should\",\"better\",\"give\",\"thought\",\"went\",\"might\",\"important\",\"000\",\"again\",\"able\",\"together\",\"still\",\"problem\",\"off\",\"next\",\"part\",\"course\",\"system\",\"him\",\"does\",\"each\",\"start\",\"show\",\"long\",\"ago\",\"story\",\"came\",\"brain\",\"few\",\"bit\",\"between\",\"used\",\"place\",\"technology\",\"women\",\"too\",\"old\",\"mean\",\"data\",\"water\",\"looking\",\"question\",\"maybe\",\"found\",\"love\",\"doesn\",\"end\",\"example\",\"10\",\"done\",\"point\",\"four\",\"real\",\"wanted\",\"ever\",\"school\",\"understand\",\"sort\",\"live\",\"call\",\"whole\",\"children\",\"always\",\"trying\",\"may\",\"person\",\"away\",\"believe\",\"feel\",\"try\",\"million\",\"working\",\"help\",\"everything\",\"five\",\"country\",\"thinking\",\"second\",\"using\",\"information\",\"money\",\"means\",\"power\",\"took\",\"times\",\"high\",\"space\",\"number\",\"kids\",\"home\",\"become\",\"create\",\"small\",\"design\",\"making\",\"best\",\"left\",\"getting\",\"future\",\"enough\",\"man\",\"quite\",\"city\",\"without\",\"sense\",\"happened\",\"comes\",\"social\",\"probably\",\"less\",\"light\",\"talking\",\"energy\",\"am\",\"building\",\"science\",\"food\",\"body\",\"told\",\"interesting\",\"ask\",\"half\",\"pretty\",\"hard\",\"play\",\"anything\",\"lives\",\"countries\",\"coming\",\"such\",\"family\",\"stuff\",\"dollars\",\"earth\",\"moment\",\"20\",\"imagine\",\"across\",\"side\",\"while\",\"saw\",\"happen\",\"once\",\"okay\",\"build\",\"having\",\"men\",\"later\",\"experience\",\"makes\",\"asked\",\"living\",\"seen\",\"says\",\"room\",\"hand\",\"simple\",\"health\",\"ways\",\"else\",\"case\",\"yet\",\"almost\",\"young\",\"days\",\"nothing\",\"care\",\"bad\",\"happens\",\"goes\",\"move\",\"states\",\"reason\",\"computer\",\"open\",\"learn\",\"africa\",\"process\",\"inside\",\"someone\",\"six\",\"far\",\"mind\",\"project\",\"remember\",\"single\",\"picture\",\"both\",\"whether\",\"problems\",\"saying\",\"community\",\"basically\",\"already\",\"within\",\"looked\",\"myself\",\"billion\",\"often\",\"possible\",\"business\",\"planet\",\"global\",\"everybody\",\"top\",\"sure\",\"public\",\"set\",\"wrong\",\"car\",\"book\",\"keep\",\"yes\",\"answer\",\"oh\",\"hope\",\"sometimes\",\"true\",\"history\",\"war\",\"guy\",\"child\",\"instead\",\"months\",\"ideas\",\"looks\",\"matter\",\"government\",\"amazing\",\"united\",\"since\",\"bring\",\"age\",\"cells\",\"job\",\"heard\",\"until\",\"face\",\"wasn\",\"100\",\"read\",\"control\",\"isn\",\"research\",\"30\",\"words\",\"u\",\"group\",\"under\",\"self\",\"somebody\",\"built\",\"state\",\"woman\",\"turn\",\"friends\",\"beautiful\",\"line\",\"knew\",\"couple\",\"order\",\"form\",\"yeah\",\"internet\",\"middle\",\"music\",\"piece\",\"nature\",\"head\",\"though\",\"stop\",\"everyone\",\"50\",\"places\",\"video\",\"learned\",\"language\",\"run\",\"night\",\"decided\",\"study\",\"word\",\"cancer\",\"taking\",\"works\",\"became\",\"exactly\",\"species\",\"society\",\"completely\",\"education\",\"against\",\"stories\",\"large\",\"share\",\"level\",\"heart\",\"america\",\"model\",\"questions\",\"gets\",\"mother\",\"god\",\"company\",\"turns\",\"ourselves\",\"happening\",\"hear\",\"art\",\"themselves\",\"must\",\"itself\",\"rather\",\"kinds\",\"students\",\"name\",\"hours\",\"disease\",\"front\",\"house\",\"huge\",\"couldn\",\"created\",\"universe\",\"ok\",\"animals\",\"american\",\"environment\",\"worked\",\"minutes\",\"ones\",\"black\",\"perhaps\",\"1\",\"past\",\"third\",\"along\",\"others\",\"finally\",\"sound\",\"early\",\"game\",\"thousands\",\"century\",\"based\",\"least\",\"per\",\"ted\",\"lots\",\"figure\",\"free\",\"guys\",\"particular\",\"happy\",\"news\",\"learning\",\"entire\",\"won\",\"gave\",\"machine\",\"india\",\"during\",\"systems\",\"air\",\"difference\",\"outside\",\"natural\",\"taken\",\"seven\",\"given\",\"changed\",\"leave\",\"cell\",\"15\",\"close\",\"behind\",\"cities\",\"full\",\"scale\",\"difficult\",\"china\",\"takes\",\"companies\",\"yourself\",\"area\",\"reality\",\"seeing\",\"easy\",\"turned\",\"cost\",\"eyes\",\"team\",\"moving\",\"population\",\"culture\",\"york\",\"hands\",\"whatever\",\"began\",\"needs\",\"terms\",\"image\",\"simply\",\"needed\",\"beginning\",\"father\",\"local\",\"realized\",\"media\",\"death\",\"parents\",\"view\",\"walk\",\"white\",\"market\",\"parts\",\"ocean\",\"economic\",\"eight\",\"powerful\",\"known\",\"week\",\"size\",\"felt\",\"humans\",\"certain\",\"spend\",\"longer\",\"phone\",\"wonderful\",\"cannot\",\"grow\",\"common\",\"center\",\"tried\",\"fish\",\"land\",\"oil\",\"political\",\"interested\",\"deal\",\"red\",\"gone\",\"amount\",\"weeks\",\"spent\",\"opportunity\",\"paper\",\"lost\",\"national\",\"quickly\",\"blue\",\"step\",\"poor\",\"green\",\"buy\",\"growth\",\"wouldn\",\"either\",\"patients\",\"sitting\",\"ability\",\"changes\",\"write\",\"challenge\",\"south\",\"low\",\"growing\",\"friend\",\"field\",\"shows\",\"2\",\"born\",\"rest\",\"climate\",\"40\",\"test\",\"street\",\"surface\",\"incredible\",\"average\",\"physical\",\"morning\",\"scientists\",\"program\",\"pay\",\"value\",\"feeling\",\"hundreds\",\"girl\",\"met\",\"behavior\",\"economy\",\"dna\",\"complex\",\"access\",\"risk\",\"animal\",\"structure\",\"feet\",\"attention\",\"areas\",\"anyone\",\"deep\",\"watch\",\"short\",\"absolutely\",\"speak\",\"brought\",\"die\",\"bottom\",\"numbers\",\"audience\",\"stage\",\"realize\",\"law\",\"images\",\"wrote\",\"understanding\",\"knowledge\",\"literally\",\"books\",\"movement\",\"ground\",\"giving\",\"eat\",\"force\",\"seems\",\"alone\",\"telling\",\"starting\",\"hold\",\"nice\",\"forward\",\"sea\",\"developed\",\"individual\",\"kid\",\"millions\",\"support\",\"miles\",\"tools\",\"running\",\"online\",\"result\",\"act\",\"medical\",\"technologies\",\"north\",\"lab\",\"development\",\"blood\",\"fear\",\"nobody\",\"map\",\"personal\",\"issue\",\"voice\",\"material\",\"key\",\"12\",\"recently\",\"theory\",\"cut\",\"cars\",\"sun\",\"fast\",\"changing\",\"playing\",\"clear\",\"especially\",\"soon\",\"girls\",\"patient\",\"choice\",\"fly\",\"creating\",\"normal\",\"discovered\",\"europe\",\"talked\",\"relationship\",\"gives\",\"generation\",\"dark\",\"type\",\"showed\",\"chance\",\"seem\",\"industry\",\"asking\",\"rate\",\"fun\",\"issues\",\"color\",\"designed\",\"hour\",\"university\",\"innovation\",\"several\",\"class\",\"computers\",\"english\",\"tiny\",\"allow\",\"save\",\"focus\",\"digital\",\"solve\",\"developing\",\"network\",\"film\",\"special\",\"wall\",\"situation\",\"baby\",\"solution\",\"reasons\",\"box\",\"knows\",\"meet\",\"dead\",\"stand\",\"begin\",\"haven\",\"impact\",\"anybody\",\"term\",\"beyond\",\"pictures\",\"please\",\"ice\",\"produce\",\"shape\",\"non\",\"resources\",\"robot\",\"cool\",\"groups\",\"likely\",\"stay\",\"available\",\"truth\",\"rights\",\"major\",\"cause\",\"evidence\",\"obviously\",\"writing\",\"experiment\",\"modern\",\"drug\",\"becomes\",\"incredibly\",\"aren\",\"bigger\",\"guess\",\"nine\",\"product\",\"drugs\",\"lived\",\"involved\",\"perfect\",\"google\",\"month\",\"effect\",\"similar\",\"putting\",\"eye\",\"pick\",\"message\",\"quality\",\"violence\",\"web\",\"evolution\",\"security\",\"office\",\"basic\",\"solar\",\"indeed\",\"general\",\"towards\",\"present\",\"drive\",\"send\",\"listen\",\"worth\",\"revolution\",\"explain\",\"hundred\",\"certainly\",\"died\",\"ready\",\"teach\",\"journey\",\"25\",\"hit\",\"walking\",\"led\",\"approach\",\"international\",\"200\",\"scientific\",\"games\",\"60\",\"potential\",\"crazy\",\"communities\",\"chinese\",\"device\",\"source\",\"camera\",\"rules\",\"sex\",\"carbon\",\"sounds\",\"boy\",\"reach\",\"starts\",\"examples\",\"west\",\"3\",\"success\",\"measure\",\"particularly\",\"software\",\"totally\",\"suddenly\",\"action\",\"college\",\"higher\",\"code\",\"eventually\",\"democracy\",\"among\",\"minute\",\"sit\",\"largest\",\"showing\",\"hospital\",\"notice\",\"period\",\"mass\",\"develop\",\"dream\",\"onto\",\"plants\",\"break\",\"add\",\"memory\",\"everywhere\",\"favorite\",\"11\",\"zero\",\"speed\",\"schools\",\"moved\",\"response\",\"wants\",\"extremely\",\"movie\",\"individuals\",\"table\",\"wait\",\"medicine\",\"follow\",\"anyway\",\"trust\",\"plant\",\"biggest\",\"watching\",\"organization\",\"creative\",\"road\",\"choose\",\"worse\",\"lead\",\"results\",\"500\",\"exciting\",\"grew\",\"materials\",\"jobs\",\"plan\",\"east\",\"poverty\",\"positive\",\"safe\",\"strong\",\"fall\",\"essentially\",\"object\",\"door\",\"son\",\"vision\",\"further\",\"happiness\",\"continue\",\"student\",\"doctor\",\"including\",\"named\",\"role\",\"objects\",\"extraordinary\",\"standing\",\"skin\",\"leaders\",\"usually\",\"african\",\"conversation\",\"projects\",\"allowed\",\"models\",\"supposed\",\"faster\",\"interest\",\"families\",\"police\",\"fight\",\"tree\",\"connected\",\"screen\",\"5\",\"cases\",\"goal\",\"somewhere\",\"finding\",\"buildings\",\"shown\"],\"x1\":{\"__ndarray__\":\"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\",\"dtype\":\"float32\",\"shape\":[1000]},\"x2\":{\"__ndarray__\":\"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\",\"dtype\":\"float32\",\"shape\":[1000]}},\"selected\":{\"id\":\"1340\",\"type\":\"Selection\"},\"selection_policy\":{\"id\":\"1339\",\"type\":\"UnionRenderers\"}},\"id\":\"1305\",\"type\":\"ColumnDataSource\"},{\"attributes\":{},\"id\":\"1296\",\"type\":\"PanTool\"},{\"attributes\":{},\"id\":\"1297\",\"type\":\"WheelZoomTool\"},{\"attributes\":{},\"id\":\"1299\",\"type\":\"SaveTool\"},{\"attributes\":{},\"id\":\"1298\",\"type\":\"ResetTool\"},{\"attributes\":{\"callback\":null},\"id\":\"1280\",\"type\":\"DataRange1d\"},{\"attributes\":{},\"id\":\"1282\",\"type\":\"LinearScale\"}],\"root_ids\":[\"1275\"]},\"title\":\"Bokeh Application\",\"version\":\"1.3.4\"}};\n",
       "  var render_items = [{\"docid\":\"a25a08dd-6e13-4583-b4b0-a6b29a8a2a51\",\"roots\":{\"1275\":\"a3c4cec0-a2d5-488d-833d-70a94d750317\"}}];\n",
       "  root.Bokeh.embed.embed_items_notebook(docs_json, render_items);\n",
       "\n",
       "  }\n",
       "  if (root.Bokeh !== undefined) {\n",
       "    embed_document(root);\n",
       "  } else {\n",
       "    var attempts = 0;\n",
       "    var timer = setInterval(function(root) {\n",
       "      if (root.Bokeh !== undefined) {\n",
       "        embed_document(root);\n",
       "        clearInterval(timer);\n",
       "      }\n",
       "      attempts++;\n",
       "      if (attempts > 100) {\n",
       "        console.log(\"Bokeh: ERROR: Unable to run BokehJS code because BokehJS library is missing\");\n",
       "        clearInterval(timer);\n",
       "      }\n",
       "    }, 10, root)\n",
       "  }\n",
       "})(window);"
      ],
      "application/vnd.bokehjs_exec.v0+json": ""
     },
     "metadata": {
      "application/vnd.bokehjs_exec.v0+json": {
       "id": "1275"
      }
     },
     "output_type": "display_data"
    }
   ],
   "source": [
    "p = figure(tools=\"pan,wheel_zoom,reset,save\",\n",
    "           toolbar_location=\"above\",\n",
    "           title=\"word2vec T-SNE for most common words\")\n",
    "\n",
    "source = ColumnDataSource(data=dict(x1=words_top_ted_tsne[:,0],\n",
    "                                    x2=words_top_ted_tsne[:,1],\n",
    "                                    names=words_top_ted))\n",
    "\n",
    "p.scatter(x=\"x1\", y=\"x2\", size=8, source=source)\n",
    "\n",
    "labels = LabelSet(x=\"x1\", y=\"x2\", text=\"names\", y_offset=6,\n",
    "                  text_font_size=\"8pt\", text_color=\"#555555\",\n",
    "                  source=source, text_align='center')\n",
    "p.add_layout(labels)\n",
    "\n",
    "show(p)"
   ]
  },
  {
   "cell_type": "markdown",
   "metadata": {},
   "source": [
    "### Part 5: Wiki Learnt Representations"
   ]
  },
  {
   "cell_type": "markdown",
   "metadata": {},
   "source": [
    "Download dataset"
   ]
  },
  {
   "cell_type": "code",
   "execution_count": 82,
   "metadata": {},
   "outputs": [],
   "source": [
    "if not os.path.isfile('wikitext-103-raw-v1.zip'):\n",
    "    urllib.request.urlretrieve(\"https://s3.amazonaws.com/research.metamind.io/wikitext/wikitext-103-raw-v1.zip\", filename=\"wikitext-103-raw-v1.zip\")"
   ]
  },
  {
   "cell_type": "code",
   "execution_count": 83,
   "metadata": {},
   "outputs": [],
   "source": [
    "with zipfile.ZipFile('wikitext-103-raw-v1.zip', 'r') as z:\n",
    "    input_text = str(z.open('wikitext-103-raw/wiki.train.raw', 'r').read(), encoding='utf-8') # Thanks Robert Bastian"
   ]
  },
  {
   "cell_type": "markdown",
   "metadata": {},
   "source": [
    "Preprocess sentences (note that it's important to remove small sentences for performance)"
   ]
  },
  {
   "cell_type": "code",
   "execution_count": 84,
   "metadata": {},
   "outputs": [],
   "source": [
    "sentences_wiki = []\n",
    "for line in input_text.split('\\n'):\n",
    "    s = [x for x in line.split('.') if x and len(x.split()) >= 5]\n",
    "    sentences_wiki.extend(s)\n",
    "    \n",
    "for s_i in range(len(sentences_wiki)):\n",
    "    sentences_wiki[s_i] = re.sub(\"[^a-z]\", \" \", sentences_wiki[s_i].lower())\n",
    "    sentences_wiki[s_i] = re.sub(r'\\([^)]*\\)', '', sentences_wiki[s_i])\n",
    "del input_text"
   ]
  },
  {
   "cell_type": "code",
   "execution_count": 85,
   "metadata": {},
   "outputs": [
    {
     "name": "stdout",
     "output_type": "stream",
     "text": [
      "4267112\n",
      "853422\n"
     ]
    }
   ],
   "source": [
    "# sample 1/5 of the data\n",
    "shuffle(sentences_wiki)\n",
    "print(len(sentences_wiki))\n",
    "sentences_wiki = sentences_wiki[:int(len(sentences_wiki)/5)]\n",
    "print(len(sentences_wiki))"
   ]
  },
  {
   "cell_type": "markdown",
   "metadata": {},
   "source": [
    "Now, repeat all the same steps that you performed above. You should be able to reuse essentially all the code."
   ]
  },
  {
   "cell_type": "code",
   "execution_count": 139,
   "metadata": {},
   "outputs": [
    {
     "name": "stderr",
     "output_type": "stream",
     "text": [
      "/home/mengyah/anaconda3/lib/python3.7/site-packages/ipykernel_launcher.py:17: DeprecationWarning: The normed argument is ignored when density is provided. In future passing both will result in an error.\n"
     ]
    },
    {
     "data": {
      "text/html": [
       "\n",
       "\n",
       "\n",
       "\n",
       "\n",
       "\n",
       "  <div class=\"bk-root\" id=\"e4057def-4fa8-442a-bccf-07090e23752f\" data-root-id=\"1614\"></div>\n"
      ]
     },
     "metadata": {},
     "output_type": "display_data"
    },
    {
     "data": {
      "application/javascript": [
       "(function(root) {\n",
       "  function embed_document(root) {\n",
       "    \n",
       "  var docs_json = {\"34062498-7f93-4215-abfe-0088ffdf8ef0\":{\"roots\":{\"references\":[{\"attributes\":{\"below\":[{\"id\":\"1625\",\"type\":\"LinearAxis\"}],\"center\":[{\"id\":\"1629\",\"type\":\"Grid\"},{\"id\":\"1634\",\"type\":\"Grid\"}],\"left\":[{\"id\":\"1630\",\"type\":\"LinearAxis\"}],\"renderers\":[{\"id\":\"1647\",\"type\":\"GlyphRenderer\"}],\"title\":{\"id\":\"1615\",\"type\":\"Title\"},\"toolbar\":{\"id\":\"1639\",\"type\":\"Toolbar\"},\"toolbar_location\":\"above\",\"x_range\":{\"id\":\"1617\",\"type\":\"DataRange1d\"},\"x_scale\":{\"id\":\"1621\",\"type\":\"LinearScale\"},\"y_range\":{\"id\":\"1619\",\"type\":\"DataRange1d\"},\"y_scale\":{\"id\":\"1623\",\"type\":\"LinearScale\"}},\"id\":\"1614\",\"subtype\":\"Figure\",\"type\":\"Plot\"},{\"attributes\":{},\"id\":\"1696\",\"type\":\"UnionRenderers\"},{\"attributes\":{\"dimension\":1,\"ticker\":{\"id\":\"1631\",\"type\":\"BasicTicker\"}},\"id\":\"1634\",\"type\":\"Grid\"},{\"attributes\":{\"bottom\":{\"value\":0},\"fill_alpha\":{\"value\":0.1},\"fill_color\":{\"value\":\"#1f77b4\"},\"left\":{\"field\":\"left\"},\"line_alpha\":{\"value\":0.1},\"line_color\":{\"value\":\"#1f77b4\"},\"right\":{\"field\":\"right\"},\"top\":{\"field\":\"top\"}},\"id\":\"1646\",\"type\":\"Quad\"},{\"attributes\":{\"source\":{\"id\":\"1644\",\"type\":\"ColumnDataSource\"}},\"id\":\"1648\",\"type\":\"CDSView\"},{\"attributes\":{},\"id\":\"1695\",\"type\":\"BasicTickFormatter\"},{\"attributes\":{},\"id\":\"1635\",\"type\":\"PanTool\"},{\"attributes\":{\"bottom\":{\"value\":0},\"fill_color\":{\"value\":\"#1f77b4\"},\"left\":{\"field\":\"left\"},\"line_color\":{\"value\":\"#555555\"},\"right\":{\"field\":\"right\"},\"top\":{\"field\":\"top\"}},\"id\":\"1645\",\"type\":\"Quad\"},{\"attributes\":{},\"id\":\"1636\",\"type\":\"WheelZoomTool\"},{\"attributes\":{\"text\":\"Top 1000 words distribution for WIKI data\"},\"id\":\"1615\",\"type\":\"Title\"},{\"attributes\":{},\"id\":\"1637\",\"type\":\"ResetTool\"},{\"attributes\":{\"callback\":null,\"data\":{\"left\":{\"__ndarray__\":\"AAAAAAC4nUA9CtejcMnMQD0K16Pw7dpArkfhepS740A9CtejMADqQGZmZmZmIvBArkfherRE80D1KFyPAmf2QD0K16NQiflAhetRuJ6r/EDMzMzM7M3/QArXo3AdeAFBrkfhekQJA0FSuB6Fa5oEQfUoXI+SKwZBmZmZmbm8B0E9Ctej4E0JQeF6FK4H3wpBhetRuC5wDEEoXI/CVQEOQczMzMx8kg9BuB6F69GREEEK16NwZVoRQVyPwvX4IhJBrkfheozrEkEAAAAAILQTQVK4HoWzfBRBo3A9CkdFFUH1KFyP2g0WQUfhehRu1hZBmZmZmQGfF0HrUbgelWcYQT0K16MoMBlBj8L1KLz4GUHhehSuT8EaQTMzMzPjiRtBhetRuHZSHEHXo3A9ChsdQShcj8Kd4x1BehSuRzGsHkHMzMzMxHQfQY/C9SisHiBBuB6F6/WCIEHhehSuP+cgQQrXo3CJSyFBMzMzM9OvIUFcj8L1HBQiQYXrUbhmeCJBrkfherDcIkHXo3A9+kAjQQAAAABEpSNBKVyPwo0JJEFSuB6F120kQXsUrkch0iRBo3A9Cms2JUHMzMzMtJolQfUoXI/+/iVBHoXrUUhjJkFH4XoUkscmQXA9CtfbKydBmZmZmSWQJ0HC9Shcb/QnQetRuB65WChBFK5H4QK9KEE9CtejTCEpQWZmZmaWhSlBj8L1KODpKUG4HoXrKU4qQeF6FK5zsipBCtejcL0WK0EzMzMzB3srQVyPwvVQ3ytBhetRuJpDLEGuR+F65KcsQdejcD0uDC1B/////3dwLUEoXI/CwdQtQVG4HoULOS5BehSuR1WdLkGjcD0KnwEvQczMzMzoZS9B9ShcjzLKL0GPwvUoPhcwQaRwPQpjSTBBuB6F64d7MEHNzMzMrK0wQeF6FK7R3zBB9Shcj/YRMUEK16NwG0QxQR6F61FAdjFBMzMzM2WoMUFH4XoUitoxQVyPwvWuDDJBcD0K19M+MkGF61G4+HAyQZmZmZkdozJBrkfhekLVMkHC9ShcZwczQdejcD2MOTNB61G4HrFrM0E=\",\"dtype\":\"float64\",\"shape\":[100]},\"right\":{\"__ndarray__\":\"PQrXo3DJzEA9Ctej8O3aQK5H4XqUu+NAPQrXozAA6kBmZmZmZiLwQK5H4Xq0RPNA9ShcjwJn9kA9CtejUIn5QIXrUbieq/xAzMzMzOzN/0AK16NwHXgBQa5H4XpECQNBUrgehWuaBEH1KFyPkisGQZmZmZm5vAdBPQrXo+BNCUHhehSuB98KQYXrUbgucAxBKFyPwlUBDkHMzMzMfJIPQbgehevRkRBBCtejcGVaEUFcj8L1+CISQa5H4XqM6xJBAAAAACC0E0FSuB6Fs3wUQaNwPQpHRRVB9Shcj9oNFkFH4XoUbtYWQZmZmZkBnxdB61G4HpVnGEE9CtejKDAZQY/C9Si8+BlB4XoUrk/BGkEzMzMz44kbQYXrUbh2UhxB16NwPQobHUEoXI/CneMdQXoUrkcxrB5BzMzMzMR0H0GPwvUorB4gQbgehev1giBB4XoUrj/nIEEK16NwiUshQTMzMzPTryFBXI/C9RwUIkGF61G4ZngiQa5H4Xqw3CJB16NwPfpAI0EAAAAARKUjQSlcj8KNCSRBUrgehddtJEF7FK5HIdIkQaNwPQprNiVBzMzMzLSaJUH1KFyP/v4lQR6F61FIYyZBR+F6FJLHJkFwPQrX2ysnQZmZmZklkCdBwvUoXG/0J0HrUbgeuVgoQRSuR+ECvShBPQrXo0whKUFmZmZmloUpQY/C9Sjg6SlBuB6F6ylOKkHhehSuc7IqQQrXo3C9FitBMzMzMwd7K0Fcj8L1UN8rQYXrUbiaQyxBrkfheuSnLEHXo3A9LgwtQf////93cC1BKFyPwsHULUFRuB6FCzkuQXoUrkdVnS5Bo3A9Cp8BL0HMzMzM6GUvQfUoXI8yyi9Bj8L1KD4XMEGkcD0KY0kwQbgeheuHezBBzczMzKytMEHhehSu0d8wQfUoXI/2ETFBCtejcBtEMUEehetRQHYxQTMzMzNlqDFBR+F6FIraMUFcj8L1rgwyQXA9CtfTPjJBhetRuPhwMkGZmZmZHaMyQa5H4XpC1TJBwvUoXGcHM0HXo3A9jDkzQetRuB6xazNBAAAAANadM0E=\",\"dtype\":\"float64\",\"shape\":[100]},\"top\":{\"__ndarray__\":\"BdOoOF3EEj9h/RgScobHPnJvpPNI6bQ+UYuNMJsjmj4tp3Zt7V2PPnFvpPNI6XQ+Mqd2be1djz4pp3Zt7V2PPgAAAAAAAAAAd2+k80jphD5xb6TzSOmEPnFvpPNI6YQ+cW+k80jpdD4AAAAAAAAAAAAAAAAAAAAAAAAAAAAAAABxb6TzSOl0PgAAAAAAAAAAAAAAAAAAAAAAAAAAAAAAAAAAAAAAAAAAAAAAAAAAAAAAAAAAAAAAAAAAAAAAAAAAAAAAAAAAAAAAAAAAAAAAAAAAAAAAAAAAcW+k80jpdD4AAAAAAAAAAAAAAAAAAAAAcW+k80jpdD4AAAAAAAAAAAAAAAAAAAAAcW+k80jpdD4AAAAAAAAAAAAAAAAAAAAAAAAAAAAAAAAAAAAAAAAAAHFvpPNI6XQ+AAAAAAAAAAAAAAAAAAAAAAAAAAAAAAAAcW+k80jpdD4AAAAAAAAAAAAAAAAAAAAAAAAAAAAAAAAAAAAAAAAAAAAAAAAAAAAAAAAAAAAAAAAAAAAAAAAAAAAAAAAAAAAAAAAAAAAAAAAAAAAAAAAAAAAAAAAAAAAAAAAAAAAAAAAAAAAAAAAAAAAAAAAAAAAAAAAAAAAAAAAAAAAAAAAAAAAAAAAAAAAAAAAAAAAAAAAAAAAAAAAAAAAAAAAAAAAAAAAAAAAAAAAAAAAAAAAAAAAAAAAAAAAAAAAAAAAAAAAAAAAAAAAAAAAAAAAAAAAAAAAAAAAAAAAAAAAAAAAAAAAAAAAAAAAAAAAAAAAAAAAAAAAAAAAAAAAAAAAAAAAAAAAAAAAAAAAAAAAAAAAAAAAAAAAAAAAAAAAAAAAAAAAAAAAAAAAAAAAAAAAAAAAAAAAAAAAAAAAAAAAAAAAAAAAAAAAAAAAAAAAAAAAAAAAAAAAAAAAAAAAAAAAAAAAAAAAAAAAAAAAAAAAAAAAAAAAAAAAAAAAAAAAAAAAAAAAAAAAAAAAAAAAAAAAAAAAAAAAAAAAAAAAAAAAAAAAAAAAAAAAAAAAAAAAAAAAAAAAAAAAAAAAAAAAAAAAAAAAAO2+k80jpdD4=\",\"dtype\":\"float64\",\"shape\":[100]}},\"selected\":{\"id\":\"1697\",\"type\":\"Selection\"},\"selection_policy\":{\"id\":\"1696\",\"type\":\"UnionRenderers\"}},\"id\":\"1644\",\"type\":\"ColumnDataSource\"},{\"attributes\":{\"callback\":null},\"id\":\"1617\",\"type\":\"DataRange1d\"},{\"attributes\":{},\"id\":\"1638\",\"type\":\"SaveTool\"},{\"attributes\":{\"active_drag\":\"auto\",\"active_inspect\":\"auto\",\"active_multi\":null,\"active_scroll\":\"auto\",\"active_tap\":\"auto\",\"tools\":[{\"id\":\"1635\",\"type\":\"PanTool\"},{\"id\":\"1636\",\"type\":\"WheelZoomTool\"},{\"id\":\"1637\",\"type\":\"ResetTool\"},{\"id\":\"1638\",\"type\":\"SaveTool\"}]},\"id\":\"1639\",\"type\":\"Toolbar\"},{\"attributes\":{\"callback\":null},\"id\":\"1619\",\"type\":\"DataRange1d\"},{\"attributes\":{},\"id\":\"1621\",\"type\":\"LinearScale\"},{\"attributes\":{\"data_source\":{\"id\":\"1644\",\"type\":\"ColumnDataSource\"},\"glyph\":{\"id\":\"1645\",\"type\":\"Quad\"},\"hover_glyph\":null,\"muted_glyph\":null,\"nonselection_glyph\":{\"id\":\"1646\",\"type\":\"Quad\"},\"selection_glyph\":null,\"view\":{\"id\":\"1648\",\"type\":\"CDSView\"}},\"id\":\"1647\",\"type\":\"GlyphRenderer\"},{\"attributes\":{},\"id\":\"1623\",\"type\":\"LinearScale\"},{\"attributes\":{\"formatter\":{\"id\":\"1693\",\"type\":\"BasicTickFormatter\"},\"ticker\":{\"id\":\"1626\",\"type\":\"BasicTicker\"}},\"id\":\"1625\",\"type\":\"LinearAxis\"},{\"attributes\":{\"formatter\":{\"id\":\"1695\",\"type\":\"BasicTickFormatter\"},\"ticker\":{\"id\":\"1631\",\"type\":\"BasicTicker\"}},\"id\":\"1630\",\"type\":\"LinearAxis\"},{\"attributes\":{},\"id\":\"1626\",\"type\":\"BasicTicker\"},{\"attributes\":{},\"id\":\"1697\",\"type\":\"Selection\"},{\"attributes\":{\"ticker\":{\"id\":\"1626\",\"type\":\"BasicTicker\"}},\"id\":\"1629\",\"type\":\"Grid\"},{\"attributes\":{},\"id\":\"1693\",\"type\":\"BasicTickFormatter\"},{\"attributes\":{},\"id\":\"1631\",\"type\":\"BasicTicker\"}],\"root_ids\":[\"1614\"]},\"title\":\"Bokeh Application\",\"version\":\"1.3.4\"}};\n",
       "  var render_items = [{\"docid\":\"34062498-7f93-4215-abfe-0088ffdf8ef0\",\"roots\":{\"1614\":\"e4057def-4fa8-442a-bccf-07090e23752f\"}}];\n",
       "  root.Bokeh.embed.embed_items_notebook(docs_json, render_items);\n",
       "\n",
       "  }\n",
       "  if (root.Bokeh !== undefined) {\n",
       "    embed_document(root);\n",
       "  } else {\n",
       "    var attempts = 0;\n",
       "    var timer = setInterval(function(root) {\n",
       "      if (root.Bokeh !== undefined) {\n",
       "        embed_document(root);\n",
       "        clearInterval(timer);\n",
       "      }\n",
       "      attempts++;\n",
       "      if (attempts > 100) {\n",
       "        console.log(\"Bokeh: ERROR: Unable to run BokehJS code because BokehJS library is missing\");\n",
       "        clearInterval(timer);\n",
       "      }\n",
       "    }, 10, root)\n",
       "  }\n",
       "})(window);"
      ],
      "application/vnd.bokehjs_exec.v0+json": ""
     },
     "metadata": {
      "application/vnd.bokehjs_exec.v0+json": {
       "id": "1614"
      }
     },
     "output_type": "display_data"
    }
   ],
   "source": [
    "# sentences_wiki is a list of strings. Word2Vec needs the input as list of list, so we nned to tokenize them\n",
    "sentences_wiki_t = []\n",
    "for sent_str in sentences_wiki:\n",
    "    tokens =  re.sub(r\"[^a-z0-9]+\", \" \", sent_str.lower()).split()\n",
    "    sentences_wiki_t.append(tokens)\n",
    "# count the words\n",
    "count_wiki = collections.Counter()\n",
    "for sentence in sentences_wiki_t:\n",
    "    for word in sentence:\n",
    "        count_wiki[word] += 1 \n",
    "word_top_wiki = []\n",
    "count_top_wiki = []\n",
    "for token_count_pair in count_wiki.most_common(1000):\n",
    "    words_top_wiki.append(token_count_pair[0])\n",
    "    count_top_wiki.append(token_count_pair[1])\n",
    "# plot the top 1000\n",
    "hist, edges = np.histogram(count_top_wiki, density = True, bins = 100, normed = True)\n",
    "p = figure(tools = 'pan, wheel_zoom, reset, save',\n",
    "          toolbar_location='above',\n",
    "          title='Top 1000 words distribution for WIKI data')\n",
    "p.quad(top= hist, bottom=0, left=edges[:-1], right=edges[1:], line_color='#555555')\n",
    "show(p)"
   ]
  },
  {
   "cell_type": "code",
   "execution_count": 142,
   "metadata": {},
   "outputs": [
    {
     "data": {
      "text/plain": [
       "['the', 'of', 'and', 'in', 'to', 'a', 'was', 's', 'on', 'as']"
      ]
     },
     "execution_count": 142,
     "metadata": {},
     "output_type": "execute_result"
    }
   ],
   "source": [
    "word_top_wiki[0:10]"
   ]
  },
  {
   "cell_type": "code",
   "execution_count": 143,
   "metadata": {},
   "outputs": [],
   "source": [
    "# train Word2Vec\n",
    "model_wiki = Word2Vec(sentences_wiki_t,min_count=1,workers=4) # workers means running the training parallelly"
   ]
  },
  {
   "cell_type": "markdown",
   "metadata": {},
   "source": [
    "Note: remember to tokenize the sentences before train Word2Vec. If you directly uses sentences_wiki,which a list of strings, your resulting vocabulary of model_wiki would be just letters rather than words. (Michael's solution has this problem, so he gets the error of out of vocabulary.)"
   ]
  },
  {
   "cell_type": "code",
   "execution_count": 144,
   "metadata": {},
   "outputs": [
    {
     "name": "stderr",
     "output_type": "stream",
     "text": [
      "/home/mengyah/anaconda3/lib/python3.7/site-packages/ipykernel_launcher.py:1: DeprecationWarning: Call to deprecated `most_similar` (Method will be removed in 4.0.0, use self.wv.most_similar() instead).\n",
      "  \"\"\"Entry point for launching an IPython kernel.\n"
     ]
    },
    {
     "data": {
      "text/plain": [
       "[('woman', 0.7038487195968628),\n",
       " ('girl', 0.6593668460845947),\n",
       " ('creature', 0.6336866021156311),\n",
       " ('person', 0.6142929792404175),\n",
       " ('boy', 0.6126394271850586),\n",
       " ('figure', 0.5927751064300537),\n",
       " ('dog', 0.5917795896530151),\n",
       " ('kid', 0.5871160626411438),\n",
       " ('someone', 0.5635063648223877),\n",
       " ('soldier', 0.5631564259529114)]"
      ]
     },
     "execution_count": 144,
     "metadata": {},
     "output_type": "execute_result"
    }
   ],
   "source": [
    "model_wiki.most_similar('man')"
   ]
  },
  {
   "cell_type": "code",
   "execution_count": 145,
   "metadata": {},
   "outputs": [
    {
     "name": "stderr",
     "output_type": "stream",
     "text": [
      "/home/mengyah/anaconda3/lib/python3.7/site-packages/ipykernel_launcher.py:1: DeprecationWarning: Call to deprecated `most_similar` (Method will be removed in 4.0.0, use self.wv.most_similar() instead).\n",
      "  \"\"\"Entry point for launching an IPython kernel.\n"
     ]
    },
    {
     "data": {
      "text/plain": [
       "[('software', 0.774712085723877),\n",
       " ('user', 0.7229084968566895),\n",
       " ('hardware', 0.7180997133255005),\n",
       " ('computers', 0.7060397863388062),\n",
       " ('zx', 0.6991461515426636),\n",
       " ('simulation', 0.6955831050872803),\n",
       " ('puzzle', 0.6907745599746704),\n",
       " ('interactive', 0.6841230988502502),\n",
       " ('technology', 0.681239902973175),\n",
       " ('handheld', 0.678767204284668)]"
      ]
     },
     "execution_count": 145,
     "metadata": {},
     "output_type": "execute_result"
    }
   ],
   "source": [
    "model_wiki.most_similar('computer')"
   ]
  },
  {
   "cell_type": "code",
   "execution_count": 146,
   "metadata": {},
   "outputs": [
    {
     "name": "stderr",
     "output_type": "stream",
     "text": [
      "/home/mengyah/anaconda3/lib/python3.7/site-packages/ipykernel_launcher.py:1: DeprecationWarning: Call to deprecated `most_similar` (Method will be removed in 4.0.0, use self.wv.most_similar() instead).\n",
      "  \"\"\"Entry point for launching an IPython kernel.\n"
     ]
    },
    {
     "data": {
      "text/plain": [
       "[('we', 0.7434115409851074),\n",
       " ('you', 0.7293256521224976),\n",
       " ('somebody', 0.6267027854919434),\n",
       " ('me', 0.6024430990219116),\n",
       " ('kgnc', 0.5800503492355347),\n",
       " ('genevi', 0.5582752823829651),\n",
       " ('yourself', 0.5485366582870483),\n",
       " ('tacandra', 0.5472677946090698),\n",
       " ('nobody', 0.5419475436210632),\n",
       " ('toussieng', 0.5404810905456543)]"
      ]
     },
     "execution_count": 146,
     "metadata": {},
     "output_type": "execute_result"
    }
   ],
   "source": [
    "model_wiki.most_similar('i')"
   ]
  },
  {
   "cell_type": "markdown",
   "metadata": {},
   "source": [
    "#### t-SNE visualization"
   ]
  },
  {
   "cell_type": "code",
   "execution_count": 147,
   "metadata": {},
   "outputs": [
    {
     "name": "stderr",
     "output_type": "stream",
     "text": [
      "/home/mengyah/anaconda3/lib/python3.7/site-packages/ipykernel_launcher.py:2: DeprecationWarning: Call to deprecated `__getitem__` (Method will be removed in 4.0.0, use self.wv.__getitem__() instead).\n",
      "  \n"
     ]
    }
   ],
   "source": [
    "# This assumes words_top_wiki is a list of strings, the top 1000 words\n",
    "words_top_vec_wiki = model_wiki[words_top_wiki]\n",
    "\n",
    "tsne = TSNE(n_components=2, random_state=0)\n",
    "words_top_wiki_tsne = tsne.fit_transform(words_top_vec_wiki)"
   ]
  },
  {
   "cell_type": "code",
   "execution_count": 148,
   "metadata": {},
   "outputs": [
    {
     "data": {
      "text/html": [
       "\n",
       "\n",
       "\n",
       "\n",
       "\n",
       "\n",
       "  <div class=\"bk-root\" id=\"31872997-651f-48db-af15-6eb74bfdf4df\" data-root-id=\"1740\"></div>\n"
      ]
     },
     "metadata": {},
     "output_type": "display_data"
    },
    {
     "data": {
      "application/javascript": [
       "(function(root) {\n",
       "  function embed_document(root) {\n",
       "    \n",
       "  var docs_json = {\"f513eaa8-e1ce-4746-a861-3aaa6dee71df\":{\"roots\":{\"references\":[{\"attributes\":{\"below\":[{\"id\":\"1751\",\"type\":\"LinearAxis\"}],\"center\":[{\"id\":\"1755\",\"type\":\"Grid\"},{\"id\":\"1760\",\"type\":\"Grid\"},{\"id\":\"1776\",\"type\":\"LabelSet\"}],\"left\":[{\"id\":\"1756\",\"type\":\"LinearAxis\"}],\"renderers\":[{\"id\":\"1774\",\"type\":\"GlyphRenderer\"}],\"title\":{\"id\":\"1741\",\"type\":\"Title\"},\"toolbar\":{\"id\":\"1765\",\"type\":\"Toolbar\"},\"toolbar_location\":\"above\",\"x_range\":{\"id\":\"1743\",\"type\":\"DataRange1d\"},\"x_scale\":{\"id\":\"1747\",\"type\":\"LinearScale\"},\"y_range\":{\"id\":\"1745\",\"type\":\"DataRange1d\"},\"y_scale\":{\"id\":\"1749\",\"type\":\"LinearScale\"}},\"id\":\"1740\",\"subtype\":\"Figure\",\"type\":\"Plot\"},{\"attributes\":{},\"id\":\"1762\",\"type\":\"WheelZoomTool\"},{\"attributes\":{},\"id\":\"1763\",\"type\":\"ResetTool\"},{\"attributes\":{\"callback\":null},\"id\":\"1743\",\"type\":\"DataRange1d\"},{\"attributes\":{},\"id\":\"1764\",\"type\":\"SaveTool\"},{\"attributes\":{\"callback\":null},\"id\":\"1745\",\"type\":\"DataRange1d\"},{\"attributes\":{\"source\":{\"id\":\"1770\",\"type\":\"ColumnDataSource\"},\"text\":{\"field\":\"names\"},\"text_align\":\"center\",\"text_color\":{\"value\":\"#555555\"},\"text_font_size\":{\"value\":\"8pt\"},\"x\":{\"field\":\"x1\"},\"y\":{\"field\":\"x2\"},\"y_offset\":{\"value\":6}},\"id\":\"1776\",\"type\":\"LabelSet\"},{\"attributes\":{},\"id\":\"1747\",\"type\":\"LinearScale\"},{\"attributes\":{\"active_drag\":\"auto\",\"active_inspect\":\"auto\",\"active_multi\":null,\"active_scroll\":\"auto\",\"active_tap\":\"auto\",\"tools\":[{\"id\":\"1761\",\"type\":\"PanTool\"},{\"id\":\"1762\",\"type\":\"WheelZoomTool\"},{\"id\":\"1763\",\"type\":\"ResetTool\"},{\"id\":\"1764\",\"type\":\"SaveTool\"}]},\"id\":\"1765\",\"type\":\"Toolbar\"},{\"attributes\":{},\"id\":\"1833\",\"type\":\"Selection\"},{\"attributes\":{\"fill_alpha\":{\"value\":0.1},\"fill_color\":{\"value\":\"#1f77b4\"},\"line_alpha\":{\"value\":0.1},\"line_color\":{\"value\":\"#1f77b4\"},\"size\":{\"units\":\"screen\",\"value\":8},\"x\":{\"field\":\"x1\"},\"y\":{\"field\":\"x2\"}},\"id\":\"1773\",\"type\":\"Scatter\"},{\"attributes\":{\"data_source\":{\"id\":\"1770\",\"type\":\"ColumnDataSource\"},\"glyph\":{\"id\":\"1772\",\"type\":\"Scatter\"},\"hover_glyph\":null,\"muted_glyph\":null,\"nonselection_glyph\":{\"id\":\"1773\",\"type\":\"Scatter\"},\"selection_glyph\":null,\"view\":{\"id\":\"1775\",\"type\":\"CDSView\"}},\"id\":\"1774\",\"type\":\"GlyphRenderer\"},{\"attributes\":{},\"id\":\"1749\",\"type\":\"LinearScale\"},{\"attributes\":{\"formatter\":{\"id\":\"1829\",\"type\":\"BasicTickFormatter\"},\"ticker\":{\"id\":\"1752\",\"type\":\"BasicTicker\"}},\"id\":\"1751\",\"type\":\"LinearAxis\"},{\"attributes\":{},\"id\":\"1757\",\"type\":\"BasicTicker\"},{\"attributes\":{},\"id\":\"1752\",\"type\":\"BasicTicker\"},{\"attributes\":{},\"id\":\"1831\",\"type\":\"BasicTickFormatter\"},{\"attributes\":{\"ticker\":{\"id\":\"1752\",\"type\":\"BasicTicker\"}},\"id\":\"1755\",\"type\":\"Grid\"},{\"attributes\":{},\"id\":\"1829\",\"type\":\"BasicTickFormatter\"},{\"attributes\":{},\"id\":\"1832\",\"type\":\"UnionRenderers\"},{\"attributes\":{\"dimension\":1,\"ticker\":{\"id\":\"1757\",\"type\":\"BasicTicker\"}},\"id\":\"1760\",\"type\":\"Grid\"},{\"attributes\":{\"formatter\":{\"id\":\"1831\",\"type\":\"BasicTickFormatter\"},\"ticker\":{\"id\":\"1757\",\"type\":\"BasicTicker\"}},\"id\":\"1756\",\"type\":\"LinearAxis\"},{\"attributes\":{\"source\":{\"id\":\"1770\",\"type\":\"ColumnDataSource\"}},\"id\":\"1775\",\"type\":\"CDSView\"},{\"attributes\":{\"callback\":null,\"data\":{\"names\":[\"the\",\"of\",\"and\",\"in\",\"to\",\"a\",\"was\",\"s\",\"on\",\"as\",\"for\",\"that\",\"with\",\"by\",\"is\",\"his\",\"at\",\"he\",\"from\",\"it\",\"were\",\"an\",\"had\",\"which\",\"be\",\"this\",\"but\",\"are\",\"first\",\"not\",\"their\",\"after\",\"one\",\"her\",\"its\",\"also\",\"they\",\"two\",\"or\",\"have\",\"who\",\"been\",\"new\",\"has\",\"she\",\"when\",\"during\",\"time\",\"other\",\"would\",\"into\",\"all\",\"i\",\"more\",\"while\",\"over\",\"him\",\"game\",\"only\",\"later\",\"up\",\"most\",\"about\",\"out\",\"th\",\"three\",\"between\",\"than\",\"there\",\"some\",\"film\",\"may\",\"before\",\"year\",\"made\",\"no\",\"such\",\"second\",\"season\",\"where\",\"war\",\"world\",\"years\",\"both\",\"then\",\"used\",\"however\",\"them\",\"through\",\"being\",\"song\",\"these\",\"series\",\"m\",\"against\",\"many\",\"album\",\"team\",\"became\",\"city\",\"north\",\"number\",\"can\",\"part\",\"well\",\"several\",\"four\",\"united\",\"under\",\"including\",\"early\",\"state\",\"south\",\"so\",\"music\",\"episode\",\"day\",\"following\",\"said\",\"states\",\"known\",\"american\",\"work\",\"could\",\"although\",\"did\",\"began\",\"because\",\"until\",\"like\",\"released\",\"t\",\"called\",\"people\",\"high\",\"end\",\"british\",\"since\",\"long\",\"around\",\"life\",\"each\",\"best\",\"national\",\"us\",\"same\",\"september\",\"west\",\"found\",\"if\",\"million\",\"back\",\"along\",\"another\",\"five\",\"you\",\"show\",\"use\",\"group\",\"took\",\"final\",\"km\",\"received\",\"any\",\"off\",\"century\",\"area\",\"august\",\"october\",\"school\",\"due\",\"government\",\"will\",\"john\",\"what\",\"line\",\"march\",\"east\",\"system\",\"third\",\"games\",\"single\",\"june\",\"july\",\"home\",\"general\",\"much\",\"november\",\"large\",\"down\",\"april\",\"set\",\"based\",\"left\",\"major\",\"place\",\"family\",\"army\",\"history\",\"just\",\"road\",\"company\",\"band\",\"house\",\"york\",\"character\",\"played\",\"six\",\"we\",\"name\",\"december\",\"january\",\"included\",\"now\",\"king\",\"wrote\",\"within\",\"death\",\"won\",\"men\",\"named\",\"d\",\"last\",\"near\",\"those\",\"led\",\"times\",\"main\",\"next\",\"st\",\"own\",\"river\",\"described\",\"according\",\"top\",\"release\",\"record\",\"battle\",\"air\",\"league\",\"late\",\"de\",\"video\",\"original\",\"make\",\"ship\",\"very\",\"way\",\"still\",\"production\",\"great\",\"even\",\"club\",\"force\",\"small\",\"storm\",\"species\",\"route\",\"again\",\"public\",\"u\",\"old\",\"though\",\"february\",\"man\",\"days\",\"play\",\"b\",\"among\",\"role\",\"built\",\"held\",\"university\",\"division\",\"french\",\"having\",\"further\",\"do\",\"book\",\"story\",\"german\",\"members\",\"white\",\"side\",\"service\",\"match\",\"player\",\"point\",\"power\",\"water\",\"h\",\"order\",\"continued\",\"came\",\"often\",\"career\",\"park\",\"black\",\"former\",\"local\",\"without\",\"half\",\"despite\",\"town\",\"england\",\"take\",\"development\",\"considered\",\"support\",\"party\",\"written\",\"songs\",\"island\",\"form\",\"county\",\"become\",\"few\",\"different\",\"london\",\"period\",\"forces\",\"moved\",\"little\",\"given\",\"military\",\"english\",\"building\",\"c\",\"version\",\"lost\",\"president\",\"country\",\"re\",\"tropical\",\"court\",\"ii\",\"n\",\"international\",\"my\",\"tour\",\"gave\",\"position\",\"street\",\"track\",\"royal\",\"church\",\"lead\",\"similar\",\"never\",\"returned\",\"performance\",\"attack\",\"using\",\"short\",\"television\",\"published\",\"produced\",\"land\",\"went\",\"father\",\"making\",\"children\",\"highway\",\"western\",\"recorded\",\"stated\",\"aircraft\",\"ships\",\"total\",\"good\",\"star\",\"class\",\"run\",\"upon\",\"live\",\"right\",\"throughout\",\"control\",\"include\",\"women\",\"how\",\"week\",\"love\",\"himself\",\"per\",\"central\",\"head\",\"age\",\"characters\",\"once\",\"me\",\"design\",\"australia\",\"fire\",\"rock\",\"players\",\"political\",\"return\",\"young\",\"law\",\"less\",\"remained\",\"title\",\"away\",\"sea\",\"months\",\"ft\",\"light\",\"across\",\"station\",\"developed\",\"instead\",\"night\",\"previous\",\"writing\",\"died\",\"james\",\"red\",\"southern\",\"william\",\"r\",\"result\",\"seven\",\"center\",\"ten\",\"college\",\"america\",\"office\",\"reported\",\"e\",\"son\",\"noted\",\"reached\",\"too\",\"hurricane\",\"felt\",\"low\",\"eventually\",\"style\",\"announced\",\"eight\",\"miles\",\"race\",\"areas\",\"field\",\"award\",\"seen\",\"construction\",\"win\",\"sent\",\"followed\",\"performed\",\"japanese\",\"created\",\"act\",\"various\",\"should\",\"northern\",\"together\",\"served\",\"member\",\"full\",\"points\",\"originally\",\"common\",\"born\",\"taken\",\"mm\",\"chart\",\"appeared\",\"range\",\"action\",\"campaign\",\"killed\",\"works\",\"body\",\"success\",\"established\",\"able\",\"get\",\"special\",\"australian\",\"playing\",\"level\",\"located\",\"modern\",\"george\",\"others\",\"front\",\"football\",\"critics\",\"post\",\"rather\",\"thought\",\"present\",\"fourth\",\"addition\",\"started\",\"caused\",\"formed\",\"project\",\"feet\",\"stage\",\"decided\",\"added\",\"bridge\",\"site\",\"saw\",\"features\",\"damage\",\"heavy\",\"strong\",\"command\",\"director\",\"leading\",\"o\",\"almost\",\"opened\",\"see\",\"sold\",\"important\",\"art\",\"f\",\"popular\",\"every\",\"initially\",\"soon\",\"open\",\"completed\",\"championship\",\"go\",\"eastern\",\"behind\",\"close\",\"case\",\"working\",\"recording\",\"fleet\",\"non\",\"union\",\"population\",\"ground\",\"david\",\"free\",\"l\",\"mother\",\"worked\",\"guns\",\"mi\",\"brought\",\"france\",\"ever\",\"kingdom\",\"coast\",\"michael\",\"event\",\"region\",\"awards\",\"least\",\"towards\",\"weeks\",\"hall\",\"generally\",\"magazine\",\"scene\",\"help\",\"records\",\"training\",\"sound\",\"scored\",\"does\",\"placed\",\"henry\",\"troops\",\"provided\",\"cup\",\"navy\",\"far\",\"wife\",\"featured\",\"hit\",\"wanted\",\"allowed\",\"washington\",\"either\",\"put\",\"studio\",\"council\",\"runs\",\"believed\",\"summer\",\"europe\",\"designed\",\"start\",\"victory\",\"events\",\"human\",\"al\",\"joined\",\"opening\",\"nine\",\"robert\",\"official\",\"mid\",\"x\",\"average\",\"brown\",\"co\",\"replaced\",\"hours\",\"met\",\"media\",\"society\",\"earlier\",\"example\",\"list\",\"minutes\",\"squadron\",\"saying\",\"police\",\"big\",\"operation\",\"test\",\"significant\",\"finished\",\"possible\",\"largest\",\"review\",\"radio\",\"japan\",\"month\",\"rest\",\"involved\",\"association\",\"base\",\"highest\",\"available\",\"shot\",\"change\",\"turned\",\"cast\",\"crew\",\"successful\",\"research\",\"european\",\"outside\",\"captain\",\"space\",\"particularly\",\"move\",\"stone\",\"beginning\",\"passed\",\"business\",\"process\",\"community\",\"forced\",\"mph\",\"taking\",\"chief\",\"real\",\"reviews\",\"films\",\"come\",\"must\",\"section\",\"social\",\"middle\",\"hill\",\"increased\",\"appearance\",\"goal\",\"praised\",\"better\",\"gold\",\"previously\",\"thomas\",\"above\",\"thus\",\"charles\",\"units\",\"ended\",\"interest\",\"cross\",\"relationship\",\"san\",\"future\",\"ordered\",\"additional\",\"positive\",\"round\",\"critical\",\"going\",\"brother\",\"spent\",\"district\",\"rights\",\"staff\",\"enough\",\"g\",\"elements\",\"signed\",\"winds\",\"musical\",\"program\",\"lines\",\"money\",\"don\",\"overall\",\"castle\",\"failed\",\"give\",\"board\",\"india\",\"infantry\",\"california\",\"canada\",\"told\",\"lower\",\"sometimes\",\"parts\",\"attempt\",\"required\",\"room\",\"news\",\"female\",\"find\",\"lake\",\"paul\",\"groups\",\"grand\",\"directed\",\"whose\",\"reception\",\"committee\",\"prior\",\"type\",\"plan\",\"cover\",\"germany\",\"gun\",\"election\",\"term\",\"itself\",\"green\",\"hand\",\"indian\",\"already\",\"entire\",\"asked\",\"introduced\",\"our\",\"evidence\",\"p\",\"bill\",\"whom\",\"plot\",\"effects\",\"v\",\"personal\",\"limited\",\"uk\",\"port\",\"battalion\",\"students\",\"idea\",\"governor\",\"education\",\"complete\",\"turn\",\"score\",\"study\",\"usually\",\"background\",\"press\",\"smith\",\"k\",\"claimed\",\"stars\",\"surface\",\"issue\",\"defeated\",\"village\",\"industry\",\"mark\",\"person\",\"loss\",\"quickly\",\"past\",\"decision\",\"especially\",\"food\",\"department\",\"anti\",\"larger\",\"response\",\"square\",\"blue\",\"speed\",\"structure\",\"commander\",\"movement\",\"queen\",\"arrived\",\"richard\",\"virginia\",\"services\",\"pressure\",\"shows\",\"minister\",\"peter\",\"centre\",\"latter\",\"voice\",\"debut\",\"earth\",\"bay\",\"carried\",\"god\",\"might\",\"operations\",\"britain\",\"novel\",\"car\",\"science\",\"material\",\"civil\",\"fifth\",\"woman\",\"writer\",\"remaining\",\"cut\",\"winning\",\"estimated\",\"leaving\",\"living\",\"dark\",\"running\",\"scenes\",\"la\",\"view\",\"shortly\",\"length\",\"pop\",\"becoming\",\"ny\",\"episodes\",\"suggested\",\"teams\",\"approximately\",\"naval\",\"flight\",\"influence\",\"date\",\"course\",\"soviet\",\"finally\",\"changes\",\"nearly\",\"percent\",\"today\",\"producer\",\"depression\",\"spanish\",\"tracks\",\"empire\",\"size\",\"self\",\"report\",\"higher\",\"fans\",\"railway\",\"network\",\"language\",\"intended\",\"compared\",\"appointed\",\"wide\",\"immediately\",\"entered\",\"experience\",\"current\",\"lack\",\"subsequently\",\"natural\",\"face\",\"provide\",\"awarded\",\"islands\",\"proposed\",\"nd\",\"agreed\",\"contract\",\"destroyed\",\"los\",\"create\",\"daughter\",\"leader\",\"manager\",\"cost\",\"regiment\",\"longer\",\"hot\",\"child\",\"married\",\"commercial\",\"ball\",\"brigade\",\"done\",\"whether\",\"regular\",\"related\",\"supported\",\"captured\",\"guitar\",\"jackson\",\"chinese\",\"trade\",\"professional\",\"probably\",\"private\",\"changed\",\"billboard\",\"fact\",\"plans\",\"singles\",\"upper\",\"your\",\"museum\",\"federal\",\"health\",\"effect\",\"feature\",\"nature\",\"officer\",\"themselves\",\"planned\",\"fort\",\"remains\",\"soldiers\",\"associated\",\"helped\",\"edward\",\"johnson\",\"buildings\",\"problems\",\"energy\",\"copies\",\"numerous\",\"minor\",\"always\",\"j\",\"countries\",\"chicago\",\"location\",\"conference\",\"something\",\"books\",\"information\",\"appear\",\"moving\",\"corps\",\"yet\",\"forward\",\"lyrics\",\"includes\",\"cm\",\"cause\",\"pass\",\"lord\",\"friends\",\"selected\",\"key\",\"extended\",\"initial\",\"really\",\"status\",\"increase\",\"ran\",\"officers\",\"pacific\",\"mixed\",\"issued\",\"fight\",\"got\",\"via\",\"poor\",\"mostly\",\"suffered\",\"difficult\",\"friend\",\"meeting\",\"singer\",\"albums\",\"movie\",\"edition\",\"inspired\",\"fell\",\"atlantic\",\"independent\"],\"x1\":{\"__ndarray__\":\"pXLJQLrev0BXnAVBBwK+QMXXLUFNtc9BSscrQTHg1sHWGZlB8d8SQSZB5EBAzqRBkhcCQcvVkEFfUixBXB8iwqxjD7+ekR1CSpdEQWc44EDLTzVB/kPUQX0kwkGJJqpBbi7MQbJ1WEBOCZFBTso1QRvz+0H9Lo9BQmQbwvSZ6kHK4BFCOvsjwnvkFcLgiFRBs+QxQd33D0K19x5BF1DKQSLRD8JVe9BBxVimvwdYwUHvnR1CFAGuQVV120GSGahBsZDoQIggxMEfks3AWhHwQZ4uUUHDQ/FAPfaeQZbHtMBeA9NBDYcgQcmlaUG98L1AJgIqwXw5JkFJvD1ALPQYweVk/cH4MBFCiWYLwBQZg0En0CJB6/n+QXVADUG3otHB6X/qQbhvBEIGXfu/ihsnQacEx0ECPQJCPO/hQV6HrUG2aL/BJw2FwTKYEUJcCvFBMgdUQR/2CcGYTpZBx2ANQQwJm8D+CslBizIzwI0vEkGzNzdBm78TwmnaJkIQbwFCnhEpwPaDEsJ/A5fAw6+oQRj27EEMZANCQT3XwfXRp0GG7sVBQI8EQg3+EULQ2ZbBTaTXwTfOTkCdmMpBZ5eVwTrI7EHgy3JBHj+rPXiIL0GKkfxBeuzjQSFkh8FBG/zBdMYWwSSJjMEvwYFAJG3GwZH3mEFcRLTBsdwYwGK+mEFdyYdBwws3QdTek8GXwCnCaV8wwZDI58GIaJdAfvTQQRtNqcFMYXdB0YuGQHHpesCabZhB4OfcQReQvz9ghF7B+K5Iwa0H4EEYXmLBBv3rQQYDV8G3WJtBkmvxv3ewAsFm11vAzRLRQQakEELwCkZBmDsyQZNJX0HHQGLBWIomvx/O8EHwXgJC5pgmwSkQzEHvchXB6mrnQGFMuUHCvFPB5z5gwU3j9sFqsNJBVUOMwYisz8H0V93B+LyGQYNytkGZO1TBufzrQZwABsDn4wBC3HsgQYfD3sC8y0jBqNZUwVFjLMHsPPXB7fqxQe0ZbcET6TRAeiAPwbFbSsFgq4c/LRjPwJ2VNcDrYuC+0bUQQaJXtsFUL+DBaSWWQUR7b0FLIMdBC00LwRzBgr8+M1JBq8q3wd4BaUFWJNu+1cYNQp69QEG97LpBWUdcwUAFZMFH6FM9Nn1JQZ9j7sHFKofBdwUfwCJ52cEXt41AoxnkwZokLMH2yR/CZ+HyQb3Uj0HwZQZBcOoqwX7jgMFlmCo/n3nwQfNYAMLI2LTAiqzMQag+T8HbXkfBKREGQk5Cl0BvNxvB9quKwdOIq8H/gxPCzu/HQXJ8KcJ9wwVBkgZlwDcfQ0Gy2LTBpNZcQb/7BEEMQVVBeai1wItm6UB9FlRB0GIMwlc01MEh5TZASk8QQme2rUHPWtBBhdJ9Qf91KcGxqFPB8f2FQDpymkEpUmzB+imYwXiiEkJtxQdA3LknwrgTB0EhvoRBzBGAwCxTIcG2ge7BGWbdwfdMocGVlcRBnF09QW5ULUFJYcZAjWJMQSocpcFpmgXCEB4uQGpp5UCu8GjBWeuCQbhQ1b9kZmdBlHSRv4j5KkCF4hrCbVS+P9qJh8FgdbrAeQ83QTs6s0HxnrlBXd5JQB+2x8Em4TvB5DM0QTheHkBdw8ZBO26rQTsHocF35R4/D8/CwLqGTMHjNUBAxW5vwVnRf8D1f3fAwGHPQdLNgkGIYaFBB4eRwNDrCkL2GLpA9PGywYt/sEEZcdnBgMyrwKWaEEFhkh3Be6+ywdnYjsHjRJZBq6Iiwifum0AxiQ1AoQcCwtX8hME/b3tBX24SQvH0esGuoBLCenMlwqwhZsGpdjJBKkWoP3m5NcBUHD9B8frCQWR4KsDRubPBw/6XQXPM/ECFZ3fAO5+HQZkglsAYvYRBgqyVwY08XkEwd4RA61gHwUoyikBmHYHAt/a6QW6y1sDZMMnBtQkOwJ9T7MGLqNJBisrXQZRoTcCU/ITBwXOuwdzjtcGc2JS+xxn1QFki+kEnt9LAf+WsQAYEk0GSPjVBqgAMQeCM07+SuQK/CQwjQFCv6sEFHYdBYdIAQnHoUkGVItVB0wIIv8f+zkGyAtJAMxm+QZPyZUEUvoJBPgdUQQQml8DU7pbBF/6OwcBU4L9bstm/49gHwWWttkDG3JrBtkCGwSiv80D0Jp/ATkm3QU+oDMFxp+xBsuIRQqYF1EFp2EZBo6R+wAikrkGgU83AGTZEQesi90HdzL1A68SewcYDtMFhRdXBeWNBQEvt1UHcFubB4AUnwiPRpkFa5Q1CisSLQZTPDUJO3PHBMoOIwUrUUkEfKnzBZUIdwlW0y8HYHXHBNq5GwAdkZ0G+hw9CH3p/wcuRl0AsTFxBjFb9PmkMkcFG/wpC7Oz+QYMqe0EZY7VBwQJPQXbGKcKv0vbAXwKVQQFwzUAEzDrB0kbFwPSVB8BOhqrBlR7jwIJyi8FU0/5ByLHLwSMh10F56zRBGWFTwAm4BMIKem1AJXLuQJCuakFN03vAw7LAweTlFcHCHctBf13JwBgPiL83ArZBP2+nQeSLlcFcV2fByryJQBeoYUGDWJ5B30HcwIPOa8GK2hJBqHsNQOWplcHgPgFAobaWQTMgg0HCPR7AIBLcwS4W9kBq9rRALmcNwrT+IsEVsK3B/aENQXkeYsFZ4DXAOvYCQjeljb++VwHAF4QwwfOxycCQX9rA9U7UQYeNcUE5/IbB1HcQwcfov0HYy6VBk/1HwCr+BT85wY9BzZfGQBfpwkDb8/bBOn2pwSCSA8FJmx/C4CVXQJQOrb/UoCdBFSL1P99WTr8lskrBnXEjwlL1osA/SNlBZwNeQYgEYUG3QcJATjwjv5xVG8IxAQZBFc/aQYHzdsA/yatAw2KYwEYKs8AlOgU+q5LBwaH9DkEhaZ3B91S6QVJqVkH4S8rBhRK0QNFGIMK8+cPBzr0jwER7lcF1uQBCyHsGwYlhlMFqg4dB4Rb8wVhg90FvOsPByNFmQVkavUFwzynCGBtxQdWMq8CxfBBCy8zHwWW2LEF8cSDBwNxNQf00Y0ADghvBkpbLwcmvgr/aTYhA+0a1wcp0JsE6XObBgQvfwagXBsFATxvCTDWzwYSNs0EQ0MHBmE4Iv8w/i0A9uI3BFtxrwWSqucEvuzFBUY4IwVm7DD+FoJHBvHnJQO/JZ8H96rpBHeGIweirAsEe48tBwZLbQNCnXUFoet68TgIcwnnKjcCOG+BB0jwLQoaI1cG30DzBziLFQWREGMIYeSI/8HjYPzKQxcHfTbDAOb8TQoXtjcAppA7BqyFOwTaftUDdCTFBgvsHQhHYFEJNxcfBpIKUwVo18MHL18ZAWJ2gwXhykUF7Oc0+uwQVPofrtkDHzE2+0JwXwUZgHcFytIPBbVMDQkpOj0DjLhLBbf9iwXoyXEGQQ908Vzn/P8aLYkDnvnhBSB7rwLkGK0ERKsPBwly4wGFSJMF47HbBxwVJwO2/7sGqYpHAv00ZQTC63EDHi5JBcv/HQYsD1MADNC3Bb959wIdTTMGzT17Br5YHQgq0BD3XWPrBvlajwPzvIcHVwghBG9MGQfdG0sGoMJpBzXwJwZMZwUGyMrNBFcMIwClJkUEi1O1A91xpwbolAUHmgRQ/ET9rQXXJ3MHaf4NAISkjQW/94sHsAsLB9JlsvxcjoUG0VA5AnSe1QVjW0MHc/fM95/xMwYVoQ0C+P3jAEjGKQQ01cMCdweHA56fPwVoDlL9C+J1BhI92wQlA4MGU/GpB1e8ewk1clEEVyM/AzPMJQiJMpr3vKv/AxNy1QVPp9MDi37bB0YpwP7EcoEFzgozBoxg7QdmuncFc1IrBhVvXwUsYxcGsr3LBmcqKweHKrkA54TJBWnieQbV7yz/NX2fBHUZDQeVuIcFrCJfB9qMnQVKJxkFJaMnBPY1gwY33wMGOAJnA7lXbwW6bWsBom5PBys/dQYschEFpB4+/WXtMQYaZkcGUO5TBjhhuwVhelb/bbc9AVG4JQBD1BkFCL4/BQYJpQSxjk0D2TIjB6sv4wM1mLEEiQ4rA5DIgwq0Ml8HtsA/CW2FRQR97k0H1eBjC28DGwOjE/T/1QV7BJN/SQYN418Gf1+3BYoRgQS4yAcJHjj7Bz+tyQBwq5kDU3f9AJyoiwdzrLUEp/UFBiSQMwc5zvMFVFyHCpu95wdAa+kHrpoNB1Nq3wBDvTkCxB69Bj1Mnwc9TwsEinpHBz175QKYLVkG0tDM/nFQXwOTKF0FBZA9AYeCfwbhBkMEJENVAEKLIP2tEwcF5cCdARBWaQbEciUHocffBchhvwVhD7cEnbJHATFfVweoiucE+8GbBfAuQQfZMPUHxcwDCmQq/wRunjEEMtx5Ar+MZQcR9mUGAhoFBu+XNQbVdDcEi1XrBQkLLwZUhpcFXFJzBrbHUQEhEOEF1CUDBnXlLwOJBs8EKUwJCOkaawZymqMGHaU5AFdZ5QMTBoUA+ooLB3eUqwOh1BEGevI5AIoebQDS9TUG6vifCaj+cQXiua0HIFrNBGnzEv9txiMAqn9RBUrouQcn2dsH3EBHCAuVpP8sCssHn5qvBFCmMQQbLt0GDPKVBu22ewRMra0H4N3xBrN4pQAglCr/NhkdBPLGnwZDsEkK2xJ3BDKpKwKtkpMEdCbBBa1rPwLmO4sBlprtAsFAMwZt+uEEJbQfBTsyGwfWka8FDuzvBVpdMwZRsYUAQv2pBNvNOwHcel0HDcsi9LPEEQShqYEHcBEI+OxbiQDJaSEGg4jPBmqfRQTwrBMG1jP3B+COGwXd7AELY7FvB2yLIwdRuSEF2d8bB5PQDwtdctsEoaSvAc5DcwenxDUEBQ9zARXWfwZKfv8G9iC7BeFwqQaxP2sHVUO/Awm+ZQY5iOUCkCa/ABxHwwASTXcHZ1gbAkE63wecTlcGaAEvBlqkFwUgNVkFuxTDBpnsFQPVCz8AvK3rAXHmJv9kHqMC55ZhAPQcxQXfBhUHhRpHB2G8kwSvxkkFQlmNBvOYfQc419MH5mQtBwTFnwffJuEEDSCpBatLgwUZpvMD1vobBYZjjwZJQu8FEdJVBIZiIQWVEI8C/xbvAiBEBQjlA4766rGJBRHgbwqqodcEtWLzBlGanQTOFDcKXpWNBFGmwQAmkv8CDLV5BANWvP+nu5MEuvGRBXXLwwJHFkMDil6I/VO/KQU7eo0FS3sNA6KPvwabVvcHJ/yHBMmL+vvNsyj5oDghAi1VWQQB7XMEemQnAOXujwNG98sGoNfVBSihlwL5PBsGUD8ZAi2KcwLoaicDCUu1An3YjQb0/I8FI0LVAdq/EwdjwDMKEM2LAgueUwKyGEUHmXJxAUFS/wNLgtcCwcvFB0XI4wQ==\",\"dtype\":\"float32\",\"shape\":[1000]},\"x2\":{\"__ndarray__\":\"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\",\"dtype\":\"float32\",\"shape\":[1000]}},\"selected\":{\"id\":\"1833\",\"type\":\"Selection\"},\"selection_policy\":{\"id\":\"1832\",\"type\":\"UnionRenderers\"}},\"id\":\"1770\",\"type\":\"ColumnDataSource\"},{\"attributes\":{\"fill_color\":{\"value\":\"#1f77b4\"},\"line_color\":{\"value\":\"#1f77b4\"},\"size\":{\"units\":\"screen\",\"value\":8},\"x\":{\"field\":\"x1\"},\"y\":{\"field\":\"x2\"}},\"id\":\"1772\",\"type\":\"Scatter\"},{\"attributes\":{},\"id\":\"1761\",\"type\":\"PanTool\"},{\"attributes\":{\"text\":\"word2vec T-SNE for most common words\"},\"id\":\"1741\",\"type\":\"Title\"}],\"root_ids\":[\"1740\"]},\"title\":\"Bokeh Application\",\"version\":\"1.3.4\"}};\n",
       "  var render_items = [{\"docid\":\"f513eaa8-e1ce-4746-a861-3aaa6dee71df\",\"roots\":{\"1740\":\"31872997-651f-48db-af15-6eb74bfdf4df\"}}];\n",
       "  root.Bokeh.embed.embed_items_notebook(docs_json, render_items);\n",
       "\n",
       "  }\n",
       "  if (root.Bokeh !== undefined) {\n",
       "    embed_document(root);\n",
       "  } else {\n",
       "    var attempts = 0;\n",
       "    var timer = setInterval(function(root) {\n",
       "      if (root.Bokeh !== undefined) {\n",
       "        embed_document(root);\n",
       "        clearInterval(timer);\n",
       "      }\n",
       "      attempts++;\n",
       "      if (attempts > 100) {\n",
       "        console.log(\"Bokeh: ERROR: Unable to run BokehJS code because BokehJS library is missing\");\n",
       "        clearInterval(timer);\n",
       "      }\n",
       "    }, 10, root)\n",
       "  }\n",
       "})(window);"
      ],
      "application/vnd.bokehjs_exec.v0+json": ""
     },
     "metadata": {
      "application/vnd.bokehjs_exec.v0+json": {
       "id": "1740"
      }
     },
     "output_type": "display_data"
    }
   ],
   "source": [
    "p = figure(tools=\"pan,wheel_zoom,reset,save\",\n",
    "           toolbar_location=\"above\",\n",
    "           title=\"word2vec T-SNE for most common words\")\n",
    "\n",
    "source = ColumnDataSource(data=dict(x1=words_top_wiki_tsne[:,0],\n",
    "                                    x2=words_top_wiki_tsne[:,1],\n",
    "                                    names=words_top_wiki))\n",
    "\n",
    "p.scatter(x=\"x1\", y=\"x2\", size=8, source=source)\n",
    "\n",
    "labels = LabelSet(x=\"x1\", y=\"x2\", text=\"names\", y_offset=6,\n",
    "                  text_font_size=\"8pt\", text_color=\"#555555\",\n",
    "                  source=source, text_align='center')\n",
    "p.add_layout(labels)\n",
    "\n",
    "show(p)"
   ]
  }
 ],
 "metadata": {
  "anaconda-cloud": {},
  "kernelspec": {
   "display_name": "Python 3",
   "language": "python",
   "name": "python3"
  },
  "language_info": {
   "codemirror_mode": {
    "name": "ipython",
    "version": 3
   },
   "file_extension": ".py",
   "mimetype": "text/x-python",
   "name": "python",
   "nbconvert_exporter": "python",
   "pygments_lexer": "ipython3",
   "version": "3.7.4"
  }
 },
 "nbformat": 4,
 "nbformat_minor": 1
}
